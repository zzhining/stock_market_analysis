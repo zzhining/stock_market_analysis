{
  "cells": [
    {
      "cell_type": "markdown",
      "metadata": {
        "id": "view-in-github",
        "colab_type": "text"
      },
      "source": [
        "<a href=\"https://colab.research.google.com/github/zzhining/stock_market_analysis/blob/main/4%EC%A3%BC%EC%B0%A8/02_FinanceDataReader_kospi_kodaq_data.ipynb\" target=\"_parent\"><img src=\"https://colab.research.google.com/assets/colab-badge.svg\" alt=\"Open In Colab\"/></a>"
      ]
    },
    {
      "cell_type": "code",
      "execution_count": null,
      "id": "f27ab934",
      "metadata": {
        "id": "f27ab934"
      },
      "outputs": [],
      "source": [
        "pip install -U finance-datareader"
      ]
    },
    {
      "cell_type": "code",
      "source": [
        "import FinanceDataReader as fdr\n",
        "start_date = \"2023-01-01\"\n",
        "end_date = \"2023-12-31\""
      ],
      "metadata": {
        "id": "DdpVbkNhVpyT"
      },
      "id": "DdpVbkNhVpyT",
      "execution_count": null,
      "outputs": []
    },
    {
      "cell_type": "markdown",
      "id": "63dd28bb",
      "metadata": {
        "id": "63dd28bb"
      },
      "source": [
        "#### 코스피 및 코스닥 종목 정보 수집"
      ]
    },
    {
      "cell_type": "code",
      "execution_count": null,
      "id": "3a10eed2",
      "metadata": {
        "id": "3a10eed2"
      },
      "outputs": [],
      "source": [
        "# 종목 목록 가져오기\n",
        "stock_df = fdr.StockListing('KRX')\n",
        "stock_df.head()"
      ]
    },
    {
      "cell_type": "code",
      "source": [
        "stock_df['Market'].unique()"
      ],
      "metadata": {
        "id": "nTxTnIBCWP0c"
      },
      "id": "nTxTnIBCWP0c",
      "execution_count": null,
      "outputs": []
    },
    {
      "cell_type": "code",
      "execution_count": null,
      "id": "6358ece8",
      "metadata": {
        "id": "6358ece8"
      },
      "outputs": [],
      "source": [
        "# 코넥스 종목 제외\n",
        "stock_df = stock_df.loc[stock_df['Market'].isin([\"KOSPI\", \"KOSDAQ\"])]\n",
        "stock_df.head()"
      ]
    },
    {
      "cell_type": "code",
      "source": [
        "stock_df.shape"
      ],
      "metadata": {
        "id": "VT3Nu5_pXPPF"
      },
      "id": "VT3Nu5_pXPPF",
      "execution_count": null,
      "outputs": []
    },
    {
      "cell_type": "code",
      "execution_count": null,
      "id": "7e72bd97",
      "metadata": {
        "id": "7e72bd97"
      },
      "outputs": [],
      "source": [
        "# 종목 정보 내보내기 (csv로 저장하면 0으로 시작하는 종목 정보가 깨지는 경우가 있어 텍스트로 저장)\n",
        "stock_df.to_csv(\"종목정보.txt\", sep = \"\\t\", index = False, encoding = \"euc-kr\")"
      ]
    },
    {
      "cell_type": "markdown",
      "id": "d40276e7",
      "metadata": {
        "id": "d40276e7"
      },
      "source": [
        "#### 코스피 및 코스닥 전종목 주가 데이터 수집"
      ]
    },
    {
      "cell_type": "code",
      "execution_count": null,
      "id": "bdc75c14",
      "metadata": {
        "id": "bdc75c14"
      },
      "outputs": [],
      "source": [
        "# 전 종목 순회 및 데이터 저장\n",
        "import time\n",
        "\n",
        "start_date = \"2023-01-01\"\n",
        "end_date = \"2023-12-31\"\n",
        "\n",
        "for code, name in stock_df[['Code', \"Name\"]].values:\n",
        "    print(code, name)\n",
        "    while True:\n",
        "        try:\n",
        "            data = fdr.DataReader(code, start_date, end_date)\n",
        "            if len(data) > 300:\n",
        "                data.to_csv(\"./주가데이터/{}.csv\".format(name))\n",
        "            time.sleep(1)\n",
        "            break # 정상적으로 데이터 저장까지 완료되면 반복문에서 빠져나감\n",
        "        except:\n",
        "            time.sleep(10 * 60) # 연결이 끊어지면 10분 재움"
      ]
    },
    {
      "cell_type": "code",
      "source": [],
      "metadata": {
        "id": "bFIKMsJRXdB_"
      },
      "id": "bFIKMsJRXdB_",
      "execution_count": null,
      "outputs": []
    }
  ],
  "metadata": {
    "kernelspec": {
      "display_name": "Python 3",
      "language": "python",
      "name": "python3"
    },
    "language_info": {
      "codemirror_mode": {
        "name": "ipython",
        "version": 3
      },
      "file_extension": ".py",
      "mimetype": "text/x-python",
      "name": "python",
      "nbconvert_exporter": "python",
      "pygments_lexer": "ipython3",
      "version": "3.8.8"
    },
    "colab": {
      "provenance": [],
      "include_colab_link": true
    }
  },
  "nbformat": 4,
  "nbformat_minor": 5
}
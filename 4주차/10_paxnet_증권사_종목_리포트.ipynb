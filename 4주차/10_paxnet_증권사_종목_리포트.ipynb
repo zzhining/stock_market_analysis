{
  "cells": [
    {
      "cell_type": "markdown",
      "metadata": {
        "id": "view-in-github",
        "colab_type": "text"
      },
      "source": [
        "<a href=\"https://colab.research.google.com/github/zzhining/stock_market_analysis/blob/main/4%EC%A3%BC%EC%B0%A8/10_paxnet_%EC%A6%9D%EA%B6%8C%EC%82%AC_%EC%A2%85%EB%AA%A9_%EB%A6%AC%ED%8F%AC%ED%8A%B8.ipynb\" target=\"_parent\"><img src=\"https://colab.research.google.com/assets/colab-badge.svg\" alt=\"Open In Colab\"/></a>"
      ]
    },
    {
      "cell_type": "markdown",
      "id": "e72df93a",
      "metadata": {
        "id": "e72df93a"
      },
      "source": [
        "#### 파이썬을 이용한 리포트 수집"
      ]
    },
    {
      "cell_type": "code",
      "execution_count": 2,
      "id": "59297097",
      "metadata": {
        "id": "59297097"
      },
      "outputs": [],
      "source": [
        "import requests\n",
        "from bs4 import BeautifulSoup as BS"
      ]
    },
    {
      "cell_type": "code",
      "execution_count": 3,
      "id": "b328f5e6",
      "metadata": {
        "id": "b328f5e6"
      },
      "outputs": [],
      "source": [
        "url = \"http://www.paxnet.co.kr/stock/report/report?wlog_rpt=jm&menuCode=2222\"\n",
        "response = requests.get(url)\n",
        "html = response.content\n",
        "html = BS(html)"
      ]
    },
    {
      "cell_type": "code",
      "execution_count": 4,
      "id": "3fd54425",
      "metadata": {
        "id": "3fd54425"
      },
      "outputs": [],
      "source": [
        "div = html.find(\"div\", attrs = {\"class\":\"board-type\"})\n",
        "li_list = div.find_all(\"li\")"
      ]
    },
    {
      "cell_type": "markdown",
      "id": "f95feeff",
      "metadata": {
        "id": "f95feeff"
      },
      "source": [
        "#### 수집 대상 행 결정"
      ]
    },
    {
      "cell_type": "code",
      "execution_count": 5,
      "id": "c19588ad",
      "metadata": {
        "colab": {
          "base_uri": "https://localhost:8080/"
        },
        "id": "c19588ad",
        "outputId": "3642cbe6-13b1-456a-a893-d0275b607b4b"
      },
      "outputs": [
        {
          "output_type": "stream",
          "name": "stdout",
          "text": [
            "<li class=\"board-list-th\">\n",
            "<div>종목</div>\n",
            "<div>제목</div>\n",
            "<div class=\"right\">적정가격</div>\n",
            "<div>투자의견</div>\n",
            "<div>제공출처</div>\n",
            "<div class=\"cent\">작성일</div>\n",
            "</li>\n"
          ]
        }
      ],
      "source": [
        "print(li_list[0])"
      ]
    },
    {
      "cell_type": "code",
      "execution_count": 6,
      "id": "5c33e534",
      "metadata": {
        "colab": {
          "base_uri": "https://localhost:8080/"
        },
        "id": "5c33e534",
        "outputId": "3a164ceb-3547-43f7-b7c0-0ce9eab259fc"
      },
      "outputs": [
        {
          "output_type": "stream",
          "name": "stdout",
          "text": [
            "<li>\n",
            "<div><strong class=\"color-cate\"><span class=\"bracket\">[</span><a href=\"http://www.paxnet.co.kr/stock/analysis/main?wlog_rpt=list_jm&amp;abbrSymbol=205100\">엑셈</a><span class=\"bracket\">]</span></strong></div>\n",
            "<div>\n",
            "<p>\n",
            "<a href=\"javascript:selectView('145087');\">AI와 빅데이터로 혁신을 이끄는 소프트웨어 공급사</a>\n",
            "</p>\n",
            "</div>\n",
            "<div class=\"line3\">\n",
            "<span>적정가격</span>\r\n",
            "\t \t\t\t\t\t\t\t\t\r\n",
            "\t\t\t\t\t\t\t\t\t\t\r\n",
            "\t\t\t\t\t\t\t\t\t\t\r\n",
            "\t\t\t\t\t\t\t\t\t\t\t-원\r\n",
            "\t\t\t\t\t\t\t\t\t\t\r\n",
            "\t\t\t\t\t\t\t\t\t\r\n",
            "\t\t\t\t\t\t\t\t</div>\n",
            "<div class=\"line3 color-black\">\r\n",
            "\t\t\t\t\t\t\t\t\t-\r\n",
            "\t\t\t\t\t\t\t\t</div>\n",
            "<div class=\"line3\">한국IR협의회</div>\n",
            "<div class=\"line3\">2024.05.21</div>\n",
            "</li>\n"
          ]
        }
      ],
      "source": [
        "print(li_list[1])"
      ]
    },
    {
      "cell_type": "code",
      "execution_count": 7,
      "id": "f3bc34b8",
      "metadata": {
        "colab": {
          "base_uri": "https://localhost:8080/"
        },
        "id": "f3bc34b8",
        "outputId": "fa408580-2ec1-447d-9e2a-fbac8946f8b1"
      },
      "outputs": [
        {
          "output_type": "stream",
          "name": "stdout",
          "text": [
            "<li><a href=\"#\" onclick=\"linkPage(5); return false;\">5</a></li>\n"
          ]
        }
      ],
      "source": [
        "print(li_list[-1])"
      ]
    },
    {
      "cell_type": "code",
      "execution_count": 8,
      "id": "ca9dabc0",
      "metadata": {
        "id": "ca9dabc0"
      },
      "outputs": [],
      "source": [
        "check_str = '<strong class=\"color-cate\"><span class=\"bracket\">'"
      ]
    },
    {
      "cell_type": "code",
      "execution_count": 9,
      "id": "2860ba6d",
      "metadata": {
        "colab": {
          "base_uri": "https://localhost:8080/"
        },
        "id": "2860ba6d",
        "outputId": "e0f06192-49e8-4a46-f57b-fda9e1d333d8"
      },
      "outputs": [
        {
          "output_type": "stream",
          "name": "stdout",
          "text": [
            "True\n",
            "False\n",
            "False\n"
          ]
        }
      ],
      "source": [
        "print(check_str in str(li_list[1]))\n",
        "print(check_str in str(li_list[0]))\n",
        "print(check_str in str(li_list[-1]))"
      ]
    },
    {
      "cell_type": "markdown",
      "id": "2c1755f5",
      "metadata": {
        "id": "2c1755f5"
      },
      "source": [
        "#### 파싱 전략 수립"
      ]
    },
    {
      "cell_type": "code",
      "execution_count": 10,
      "id": "fcc0099b",
      "metadata": {
        "colab": {
          "base_uri": "https://localhost:8080/"
        },
        "id": "fcc0099b",
        "outputId": "74bf29f1-70a4-415a-c491-bd150978d5ec"
      },
      "outputs": [
        {
          "output_type": "stream",
          "name": "stdout",
          "text": [
            "엑셈\n"
          ]
        }
      ],
      "source": [
        "stock = li_list[1].find_all(\"a\")[0].text\n",
        "print(stock)"
      ]
    },
    {
      "cell_type": "code",
      "execution_count": 11,
      "id": "5043a780",
      "metadata": {
        "colab": {
          "base_uri": "https://localhost:8080/"
        },
        "id": "5043a780",
        "outputId": "16e670a5-5aa5-4578-aa15-36eb3c8b8665"
      },
      "outputs": [
        {
          "output_type": "stream",
          "name": "stdout",
          "text": [
            "AI와 빅데이터로 혁신을 이끄는 소프트웨어 공급사\n"
          ]
        }
      ],
      "source": [
        "title = li_list[1].find_all(\"a\")[1].text\n",
        "print(title)"
      ]
    },
    {
      "cell_type": "code",
      "execution_count": 12,
      "id": "2b5befab",
      "metadata": {
        "colab": {
          "base_uri": "https://localhost:8080/",
          "height": 35
        },
        "id": "2b5befab",
        "outputId": "fb926133-ecfe-4ce0-8497-d2461b4c2ca8"
      },
      "outputs": [
        {
          "output_type": "display_data",
          "data": {
            "text/plain": [
              "'\\n적정가격\\r\\n\\t \\t\\t\\t\\t\\t\\t\\t\\t\\r\\n\\t\\t\\t\\t\\t\\t\\t\\t\\t\\t\\r\\n\\t\\t\\t\\t\\t\\t\\t\\t\\t\\t\\r\\n\\t\\t\\t\\t\\t\\t\\t\\t\\t\\t\\t-원\\r\\n\\t\\t\\t\\t\\t\\t\\t\\t\\t\\t\\r\\n\\t\\t\\t\\t\\t\\t\\t\\t\\t\\r\\n\\t\\t\\t\\t\\t\\t\\t\\t'"
            ],
            "application/vnd.google.colaboratory.intrinsic+json": {
              "type": "string"
            }
          },
          "metadata": {}
        }
      ],
      "source": [
        "price = li_list[1].find(\"div\", attrs = {\"class\":\"line3\"}).text\n",
        "display(price)"
      ]
    },
    {
      "cell_type": "code",
      "execution_count": 13,
      "id": "6a077e30",
      "metadata": {
        "colab": {
          "base_uri": "https://localhost:8080/",
          "height": 35
        },
        "id": "6a077e30",
        "outputId": "2f63c75e-07d0-41fd-ae48-95ff256968fa"
      },
      "outputs": [
        {
          "output_type": "display_data",
          "data": {
            "text/plain": [
              "'-'"
            ],
            "application/vnd.google.colaboratory.intrinsic+json": {
              "type": "string"
            }
          },
          "metadata": {}
        }
      ],
      "source": [
        "price = price.replace('\\r', '').replace('\\t', '').replace('\\n', '')\n",
        "price = price.split(' ')[1].replace(',', '')[:-1]\n",
        "display(price)"
      ]
    },
    {
      "cell_type": "code",
      "execution_count": 14,
      "id": "e649dcff",
      "metadata": {
        "scrolled": true,
        "colab": {
          "base_uri": "https://localhost:8080/",
          "height": 35
        },
        "id": "e649dcff",
        "outputId": "18bf52a1-2e58-4289-c262-e4383626e7d9"
      },
      "outputs": [
        {
          "output_type": "display_data",
          "data": {
            "text/plain": [
              "'\\r\\n\\t\\t\\t\\t\\t\\t\\t\\t\\t-\\r\\n\\t\\t\\t\\t\\t\\t\\t\\t'"
            ],
            "application/vnd.google.colaboratory.intrinsic+json": {
              "type": "string"
            }
          },
          "metadata": {}
        }
      ],
      "source": [
        "opinion = li_list[1].find_all(\"div\", attrs = {\"class\":\"line3\"})[1].text\n",
        "display(opinion)"
      ]
    },
    {
      "cell_type": "code",
      "execution_count": 15,
      "id": "b0e6663a",
      "metadata": {
        "colab": {
          "base_uri": "https://localhost:8080/",
          "height": 35
        },
        "id": "b0e6663a",
        "outputId": "8e1fe0af-2ab7-4f62-b025-67fa6c9769d5"
      },
      "outputs": [
        {
          "output_type": "display_data",
          "data": {
            "text/plain": [
              "'-'"
            ],
            "application/vnd.google.colaboratory.intrinsic+json": {
              "type": "string"
            }
          },
          "metadata": {}
        }
      ],
      "source": [
        "opinion = opinion.replace('\\t', '').replace('\\n', '').replace('\\r', '')\n",
        "display(opinion)"
      ]
    },
    {
      "cell_type": "code",
      "execution_count": 16,
      "id": "b998848b",
      "metadata": {
        "colab": {
          "base_uri": "https://localhost:8080/",
          "height": 35
        },
        "id": "b998848b",
        "outputId": "71f22630-15b1-455c-fd40-17d8cc3bca1e"
      },
      "outputs": [
        {
          "output_type": "display_data",
          "data": {
            "text/plain": [
              "'한국IR협의회'"
            ],
            "application/vnd.google.colaboratory.intrinsic+json": {
              "type": "string"
            }
          },
          "metadata": {}
        }
      ],
      "source": [
        "trading_firm = li_list[1].find_all(\"div\", attrs = {\"class\":\"line3\"})[2].text\n",
        "display(trading_firm)"
      ]
    },
    {
      "cell_type": "code",
      "execution_count": 17,
      "id": "ca5cdd4f",
      "metadata": {
        "colab": {
          "base_uri": "https://localhost:8080/",
          "height": 35
        },
        "id": "ca5cdd4f",
        "outputId": "2aa59465-e24a-4a7e-b3d8-ee114814de37"
      },
      "outputs": [
        {
          "output_type": "display_data",
          "data": {
            "text/plain": [
              "'2024.05.21'"
            ],
            "application/vnd.google.colaboratory.intrinsic+json": {
              "type": "string"
            }
          },
          "metadata": {}
        }
      ],
      "source": [
        "date = li_list[1].find_all(\"div\", attrs = {\"class\":\"line3\"})[3].text\n",
        "display(date)"
      ]
    },
    {
      "cell_type": "code",
      "execution_count": 18,
      "id": "dfa7ee65",
      "metadata": {
        "colab": {
          "base_uri": "https://localhost:8080/",
          "height": 35
        },
        "id": "dfa7ee65",
        "outputId": "30822c4d-37e1-48e5-9088-4df6f052fcba"
      },
      "outputs": [
        {
          "output_type": "display_data",
          "data": {
            "text/plain": [
              "Timestamp('2024-05-21 00:00:00')"
            ]
          },
          "metadata": {}
        }
      ],
      "source": [
        "import pandas as pd\n",
        "date = pd.to_datetime(date)\n",
        "display(date)"
      ]
    },
    {
      "cell_type": "markdown",
      "id": "a79655ed",
      "metadata": {
        "id": "a79655ed"
      },
      "source": [
        "#### 단일 리포트 파싱"
      ]
    },
    {
      "cell_type": "code",
      "execution_count": 19,
      "id": "6a340bc0",
      "metadata": {
        "id": "6a340bc0"
      },
      "outputs": [],
      "source": [
        "def parsing_li(li):\n",
        "    stock = li.find_all(\"a\")[0].text # 종목명\n",
        "    title = li.find_all(\"a\")[1].text # 리포트 제목\n",
        "    price = li.find(\"div\", attrs = {\"class\":\"line3\"}).text # 적정가격\n",
        "    price = price.replace('\\r', '').replace('\\t', '').replace('\\n', '')\n",
        "    price = price.split(' ')[1].replace(',', '')[:-1]\n",
        "    opinion = li.find_all(\"div\", attrs = {\"class\":\"line3\"})[1].text # 의견\n",
        "    opinion = opinion.replace('\\t', '').replace('\\n', '').replace('\\r', '')\n",
        "    trading_firm = li.find_all(\"div\", attrs = {\"class\":\"line3\"})[2].text # 증권사\n",
        "    date = li.find_all(\"div\", attrs = {\"class\":\"line3\"})[3].text # 날짜\n",
        "    date = pd.to_datetime(date)\n",
        "\n",
        "    return [stock, title, price, opinion, trading_firm, date]"
      ]
    },
    {
      "cell_type": "code",
      "execution_count": 20,
      "id": "c1e8164d",
      "metadata": {
        "colab": {
          "base_uri": "https://localhost:8080/"
        },
        "id": "c1e8164d",
        "outputId": "3a69b1af-3f6b-4c17-9f6c-e5b2039f9049"
      },
      "outputs": [
        {
          "output_type": "stream",
          "name": "stdout",
          "text": [
            "['엑셈', 'AI와 빅데이터로 혁신을 이끄는 소프트웨어 공급사', '-', '-', '한국IR협의회', Timestamp('2024-05-21 00:00:00')]\n"
          ]
        }
      ],
      "source": [
        "print(parsing_li(li_list[1]))"
      ]
    },
    {
      "cell_type": "markdown",
      "id": "d17eac9d",
      "metadata": {
        "id": "d17eac9d"
      },
      "source": [
        "#### 한 페이지 내 모든 리포트 수집 및 정제"
      ]
    },
    {
      "cell_type": "code",
      "execution_count": 21,
      "id": "02777815",
      "metadata": {
        "id": "02777815"
      },
      "outputs": [],
      "source": [
        "data = []\n",
        "for li in li_list:\n",
        "    if check_str in str(li):\n",
        "        record = parsing_li(li)\n",
        "        data.append(record)\n",
        "data = pd.DataFrame(data, columns = [\"종목명\", \"리포트제목\", \"적정가격\", \"의견\", \"증권사\", \"날짜\"])"
      ]
    },
    {
      "cell_type": "code",
      "execution_count": 22,
      "id": "5450e69a",
      "metadata": {
        "colab": {
          "base_uri": "https://localhost:8080/",
          "height": 362
        },
        "id": "5450e69a",
        "outputId": "02f85e79-152e-4888-f353-a37414c3c546"
      },
      "outputs": [
        {
          "output_type": "display_data",
          "data": {
            "text/plain": [
              "     종목명                          리포트제목    적정가격  의견      증권사         날짜\n",
              "0     엑셈    AI와 빅데이터로 혁신을 이끄는 소프트웨어 공급사       -   -  한국IR협의회 2024-05-21\n",
              "1   동양생명          Q24 Review: CSM 성장 지속    6400  매수    메리츠증권 2024-05-21\n",
              "2   삼성생명          1Q24 Review: 구체화될 방향성  110000  매수    메리츠증권 2024-05-21\n",
              "3    GKL                     드롭액 개선세 지속   19000  매수    유안타증권 2024-05-21\n",
              "4  메가스터디          #의대정원 확대 #주주환원 #밸류에이션   93000  매수    유안타증권 2024-05-21\n",
              "5  코오롱인더     2024년 2 ~ 3분기, 3가지 변화에 주목!   70000  매수    유안타증권 2024-05-21\n",
              "6   파인엠텍                Anything is ok!       -   -    유안타증권 2024-05-21\n",
              "7    제이티                      하반기를 기다린다   12000  매수  IBK투자증권 2024-05-21\n",
              "8  비즈니스온  Q24 Review: 역대 분기 최대 실적 달성 성공       -  매수   유진투자증권 2024-05-21\n",
              "9   한화생명        1Q24 Review: 체질 개선 진행 중    4000  매수    메리츠증권 2024-05-17"
            ],
            "text/html": [
              "\n",
              "  <div id=\"df-b2bf8fc4-4023-4f37-aa56-30e79d30f68e\" class=\"colab-df-container\">\n",
              "    <div>\n",
              "<style scoped>\n",
              "    .dataframe tbody tr th:only-of-type {\n",
              "        vertical-align: middle;\n",
              "    }\n",
              "\n",
              "    .dataframe tbody tr th {\n",
              "        vertical-align: top;\n",
              "    }\n",
              "\n",
              "    .dataframe thead th {\n",
              "        text-align: right;\n",
              "    }\n",
              "</style>\n",
              "<table border=\"1\" class=\"dataframe\">\n",
              "  <thead>\n",
              "    <tr style=\"text-align: right;\">\n",
              "      <th></th>\n",
              "      <th>종목명</th>\n",
              "      <th>리포트제목</th>\n",
              "      <th>적정가격</th>\n",
              "      <th>의견</th>\n",
              "      <th>증권사</th>\n",
              "      <th>날짜</th>\n",
              "    </tr>\n",
              "  </thead>\n",
              "  <tbody>\n",
              "    <tr>\n",
              "      <th>0</th>\n",
              "      <td>엑셈</td>\n",
              "      <td>AI와 빅데이터로 혁신을 이끄는 소프트웨어 공급사</td>\n",
              "      <td>-</td>\n",
              "      <td>-</td>\n",
              "      <td>한국IR협의회</td>\n",
              "      <td>2024-05-21</td>\n",
              "    </tr>\n",
              "    <tr>\n",
              "      <th>1</th>\n",
              "      <td>동양생명</td>\n",
              "      <td>Q24 Review: CSM 성장 지속</td>\n",
              "      <td>6400</td>\n",
              "      <td>매수</td>\n",
              "      <td>메리츠증권</td>\n",
              "      <td>2024-05-21</td>\n",
              "    </tr>\n",
              "    <tr>\n",
              "      <th>2</th>\n",
              "      <td>삼성생명</td>\n",
              "      <td>1Q24 Review: 구체화될 방향성</td>\n",
              "      <td>110000</td>\n",
              "      <td>매수</td>\n",
              "      <td>메리츠증권</td>\n",
              "      <td>2024-05-21</td>\n",
              "    </tr>\n",
              "    <tr>\n",
              "      <th>3</th>\n",
              "      <td>GKL</td>\n",
              "      <td>드롭액 개선세 지속</td>\n",
              "      <td>19000</td>\n",
              "      <td>매수</td>\n",
              "      <td>유안타증권</td>\n",
              "      <td>2024-05-21</td>\n",
              "    </tr>\n",
              "    <tr>\n",
              "      <th>4</th>\n",
              "      <td>메가스터디</td>\n",
              "      <td>#의대정원 확대 #주주환원 #밸류에이션</td>\n",
              "      <td>93000</td>\n",
              "      <td>매수</td>\n",
              "      <td>유안타증권</td>\n",
              "      <td>2024-05-21</td>\n",
              "    </tr>\n",
              "    <tr>\n",
              "      <th>5</th>\n",
              "      <td>코오롱인더</td>\n",
              "      <td>2024년 2 ~ 3분기, 3가지 변화에 주목!</td>\n",
              "      <td>70000</td>\n",
              "      <td>매수</td>\n",
              "      <td>유안타증권</td>\n",
              "      <td>2024-05-21</td>\n",
              "    </tr>\n",
              "    <tr>\n",
              "      <th>6</th>\n",
              "      <td>파인엠텍</td>\n",
              "      <td>Anything is ok!</td>\n",
              "      <td>-</td>\n",
              "      <td>-</td>\n",
              "      <td>유안타증권</td>\n",
              "      <td>2024-05-21</td>\n",
              "    </tr>\n",
              "    <tr>\n",
              "      <th>7</th>\n",
              "      <td>제이티</td>\n",
              "      <td>하반기를 기다린다</td>\n",
              "      <td>12000</td>\n",
              "      <td>매수</td>\n",
              "      <td>IBK투자증권</td>\n",
              "      <td>2024-05-21</td>\n",
              "    </tr>\n",
              "    <tr>\n",
              "      <th>8</th>\n",
              "      <td>비즈니스온</td>\n",
              "      <td>Q24 Review: 역대 분기 최대 실적 달성 성공</td>\n",
              "      <td>-</td>\n",
              "      <td>매수</td>\n",
              "      <td>유진투자증권</td>\n",
              "      <td>2024-05-21</td>\n",
              "    </tr>\n",
              "    <tr>\n",
              "      <th>9</th>\n",
              "      <td>한화생명</td>\n",
              "      <td>1Q24 Review: 체질 개선 진행 중</td>\n",
              "      <td>4000</td>\n",
              "      <td>매수</td>\n",
              "      <td>메리츠증권</td>\n",
              "      <td>2024-05-17</td>\n",
              "    </tr>\n",
              "  </tbody>\n",
              "</table>\n",
              "</div>\n",
              "    <div class=\"colab-df-buttons\">\n",
              "\n",
              "  <div class=\"colab-df-container\">\n",
              "    <button class=\"colab-df-convert\" onclick=\"convertToInteractive('df-b2bf8fc4-4023-4f37-aa56-30e79d30f68e')\"\n",
              "            title=\"Convert this dataframe to an interactive table.\"\n",
              "            style=\"display:none;\">\n",
              "\n",
              "  <svg xmlns=\"http://www.w3.org/2000/svg\" height=\"24px\" viewBox=\"0 -960 960 960\">\n",
              "    <path d=\"M120-120v-720h720v720H120Zm60-500h600v-160H180v160Zm220 220h160v-160H400v160Zm0 220h160v-160H400v160ZM180-400h160v-160H180v160Zm440 0h160v-160H620v160ZM180-180h160v-160H180v160Zm440 0h160v-160H620v160Z\"/>\n",
              "  </svg>\n",
              "    </button>\n",
              "\n",
              "  <style>\n",
              "    .colab-df-container {\n",
              "      display:flex;\n",
              "      gap: 12px;\n",
              "    }\n",
              "\n",
              "    .colab-df-convert {\n",
              "      background-color: #E8F0FE;\n",
              "      border: none;\n",
              "      border-radius: 50%;\n",
              "      cursor: pointer;\n",
              "      display: none;\n",
              "      fill: #1967D2;\n",
              "      height: 32px;\n",
              "      padding: 0 0 0 0;\n",
              "      width: 32px;\n",
              "    }\n",
              "\n",
              "    .colab-df-convert:hover {\n",
              "      background-color: #E2EBFA;\n",
              "      box-shadow: 0px 1px 2px rgba(60, 64, 67, 0.3), 0px 1px 3px 1px rgba(60, 64, 67, 0.15);\n",
              "      fill: #174EA6;\n",
              "    }\n",
              "\n",
              "    .colab-df-buttons div {\n",
              "      margin-bottom: 4px;\n",
              "    }\n",
              "\n",
              "    [theme=dark] .colab-df-convert {\n",
              "      background-color: #3B4455;\n",
              "      fill: #D2E3FC;\n",
              "    }\n",
              "\n",
              "    [theme=dark] .colab-df-convert:hover {\n",
              "      background-color: #434B5C;\n",
              "      box-shadow: 0px 1px 3px 1px rgba(0, 0, 0, 0.15);\n",
              "      filter: drop-shadow(0px 1px 2px rgba(0, 0, 0, 0.3));\n",
              "      fill: #FFFFFF;\n",
              "    }\n",
              "  </style>\n",
              "\n",
              "    <script>\n",
              "      const buttonEl =\n",
              "        document.querySelector('#df-b2bf8fc4-4023-4f37-aa56-30e79d30f68e button.colab-df-convert');\n",
              "      buttonEl.style.display =\n",
              "        google.colab.kernel.accessAllowed ? 'block' : 'none';\n",
              "\n",
              "      async function convertToInteractive(key) {\n",
              "        const element = document.querySelector('#df-b2bf8fc4-4023-4f37-aa56-30e79d30f68e');\n",
              "        const dataTable =\n",
              "          await google.colab.kernel.invokeFunction('convertToInteractive',\n",
              "                                                    [key], {});\n",
              "        if (!dataTable) return;\n",
              "\n",
              "        const docLinkHtml = 'Like what you see? Visit the ' +\n",
              "          '<a target=\"_blank\" href=https://colab.research.google.com/notebooks/data_table.ipynb>data table notebook</a>'\n",
              "          + ' to learn more about interactive tables.';\n",
              "        element.innerHTML = '';\n",
              "        dataTable['output_type'] = 'display_data';\n",
              "        await google.colab.output.renderOutput(dataTable, element);\n",
              "        const docLink = document.createElement('div');\n",
              "        docLink.innerHTML = docLinkHtml;\n",
              "        element.appendChild(docLink);\n",
              "      }\n",
              "    </script>\n",
              "  </div>\n",
              "\n",
              "\n",
              "<div id=\"df-474e07c2-2de4-4feb-a581-f9325233c61c\">\n",
              "  <button class=\"colab-df-quickchart\" onclick=\"quickchart('df-474e07c2-2de4-4feb-a581-f9325233c61c')\"\n",
              "            title=\"Suggest charts\"\n",
              "            style=\"display:none;\">\n",
              "\n",
              "<svg xmlns=\"http://www.w3.org/2000/svg\" height=\"24px\"viewBox=\"0 0 24 24\"\n",
              "     width=\"24px\">\n",
              "    <g>\n",
              "        <path d=\"M19 3H5c-1.1 0-2 .9-2 2v14c0 1.1.9 2 2 2h14c1.1 0 2-.9 2-2V5c0-1.1-.9-2-2-2zM9 17H7v-7h2v7zm4 0h-2V7h2v10zm4 0h-2v-4h2v4z\"/>\n",
              "    </g>\n",
              "</svg>\n",
              "  </button>\n",
              "\n",
              "<style>\n",
              "  .colab-df-quickchart {\n",
              "      --bg-color: #E8F0FE;\n",
              "      --fill-color: #1967D2;\n",
              "      --hover-bg-color: #E2EBFA;\n",
              "      --hover-fill-color: #174EA6;\n",
              "      --disabled-fill-color: #AAA;\n",
              "      --disabled-bg-color: #DDD;\n",
              "  }\n",
              "\n",
              "  [theme=dark] .colab-df-quickchart {\n",
              "      --bg-color: #3B4455;\n",
              "      --fill-color: #D2E3FC;\n",
              "      --hover-bg-color: #434B5C;\n",
              "      --hover-fill-color: #FFFFFF;\n",
              "      --disabled-bg-color: #3B4455;\n",
              "      --disabled-fill-color: #666;\n",
              "  }\n",
              "\n",
              "  .colab-df-quickchart {\n",
              "    background-color: var(--bg-color);\n",
              "    border: none;\n",
              "    border-radius: 50%;\n",
              "    cursor: pointer;\n",
              "    display: none;\n",
              "    fill: var(--fill-color);\n",
              "    height: 32px;\n",
              "    padding: 0;\n",
              "    width: 32px;\n",
              "  }\n",
              "\n",
              "  .colab-df-quickchart:hover {\n",
              "    background-color: var(--hover-bg-color);\n",
              "    box-shadow: 0 1px 2px rgba(60, 64, 67, 0.3), 0 1px 3px 1px rgba(60, 64, 67, 0.15);\n",
              "    fill: var(--button-hover-fill-color);\n",
              "  }\n",
              "\n",
              "  .colab-df-quickchart-complete:disabled,\n",
              "  .colab-df-quickchart-complete:disabled:hover {\n",
              "    background-color: var(--disabled-bg-color);\n",
              "    fill: var(--disabled-fill-color);\n",
              "    box-shadow: none;\n",
              "  }\n",
              "\n",
              "  .colab-df-spinner {\n",
              "    border: 2px solid var(--fill-color);\n",
              "    border-color: transparent;\n",
              "    border-bottom-color: var(--fill-color);\n",
              "    animation:\n",
              "      spin 1s steps(1) infinite;\n",
              "  }\n",
              "\n",
              "  @keyframes spin {\n",
              "    0% {\n",
              "      border-color: transparent;\n",
              "      border-bottom-color: var(--fill-color);\n",
              "      border-left-color: var(--fill-color);\n",
              "    }\n",
              "    20% {\n",
              "      border-color: transparent;\n",
              "      border-left-color: var(--fill-color);\n",
              "      border-top-color: var(--fill-color);\n",
              "    }\n",
              "    30% {\n",
              "      border-color: transparent;\n",
              "      border-left-color: var(--fill-color);\n",
              "      border-top-color: var(--fill-color);\n",
              "      border-right-color: var(--fill-color);\n",
              "    }\n",
              "    40% {\n",
              "      border-color: transparent;\n",
              "      border-right-color: var(--fill-color);\n",
              "      border-top-color: var(--fill-color);\n",
              "    }\n",
              "    60% {\n",
              "      border-color: transparent;\n",
              "      border-right-color: var(--fill-color);\n",
              "    }\n",
              "    80% {\n",
              "      border-color: transparent;\n",
              "      border-right-color: var(--fill-color);\n",
              "      border-bottom-color: var(--fill-color);\n",
              "    }\n",
              "    90% {\n",
              "      border-color: transparent;\n",
              "      border-bottom-color: var(--fill-color);\n",
              "    }\n",
              "  }\n",
              "</style>\n",
              "\n",
              "  <script>\n",
              "    async function quickchart(key) {\n",
              "      const quickchartButtonEl =\n",
              "        document.querySelector('#' + key + ' button');\n",
              "      quickchartButtonEl.disabled = true;  // To prevent multiple clicks.\n",
              "      quickchartButtonEl.classList.add('colab-df-spinner');\n",
              "      try {\n",
              "        const charts = await google.colab.kernel.invokeFunction(\n",
              "            'suggestCharts', [key], {});\n",
              "      } catch (error) {\n",
              "        console.error('Error during call to suggestCharts:', error);\n",
              "      }\n",
              "      quickchartButtonEl.classList.remove('colab-df-spinner');\n",
              "      quickchartButtonEl.classList.add('colab-df-quickchart-complete');\n",
              "    }\n",
              "    (() => {\n",
              "      let quickchartButtonEl =\n",
              "        document.querySelector('#df-474e07c2-2de4-4feb-a581-f9325233c61c button');\n",
              "      quickchartButtonEl.style.display =\n",
              "        google.colab.kernel.accessAllowed ? 'block' : 'none';\n",
              "    })();\n",
              "  </script>\n",
              "</div>\n",
              "\n",
              "    </div>\n",
              "  </div>\n"
            ],
            "application/vnd.google.colaboratory.intrinsic+json": {
              "type": "dataframe",
              "summary": "{\n  \"name\": \"display(data\",\n  \"rows\": 10,\n  \"fields\": [\n    {\n      \"column\": \"\\uc885\\ubaa9\\uba85\",\n      \"properties\": {\n        \"dtype\": \"string\",\n        \"num_unique_values\": 10,\n        \"samples\": [\n          \"\\ube44\\uc988\\ub2c8\\uc2a4\\uc628\",\n          \"\\ub3d9\\uc591\\uc0dd\\uba85\",\n          \"\\ucf54\\uc624\\ub871\\uc778\\ub354\"\n        ],\n        \"semantic_type\": \"\",\n        \"description\": \"\"\n      }\n    },\n    {\n      \"column\": \"\\ub9ac\\ud3ec\\ud2b8\\uc81c\\ubaa9\",\n      \"properties\": {\n        \"dtype\": \"string\",\n        \"num_unique_values\": 10,\n        \"samples\": [\n          \"Q24 Review: \\uc5ed\\ub300 \\ubd84\\uae30 \\ucd5c\\ub300 \\uc2e4\\uc801 \\ub2ec\\uc131 \\uc131\\uacf5\",\n          \"Q24 Review: CSM \\uc131\\uc7a5 \\uc9c0\\uc18d\",\n          \"2024\\ub144 2 ~ 3\\ubd84\\uae30, 3\\uac00\\uc9c0 \\ubcc0\\ud654\\uc5d0 \\uc8fc\\ubaa9!\"\n        ],\n        \"semantic_type\": \"\",\n        \"description\": \"\"\n      }\n    },\n    {\n      \"column\": \"\\uc801\\uc815\\uac00\\uaca9\",\n      \"properties\": {\n        \"dtype\": \"string\",\n        \"num_unique_values\": 8,\n        \"samples\": [\n          \"6400\",\n          \"70000\",\n          \"-\"\n        ],\n        \"semantic_type\": \"\",\n        \"description\": \"\"\n      }\n    },\n    {\n      \"column\": \"\\uc758\\uacac\",\n      \"properties\": {\n        \"dtype\": \"category\",\n        \"num_unique_values\": 2,\n        \"samples\": [\n          \"\\ub9e4\\uc218\",\n          \"-\"\n        ],\n        \"semantic_type\": \"\",\n        \"description\": \"\"\n      }\n    },\n    {\n      \"column\": \"\\uc99d\\uad8c\\uc0ac\",\n      \"properties\": {\n        \"dtype\": \"string\",\n        \"num_unique_values\": 5,\n        \"samples\": [\n          \"\\uba54\\ub9ac\\uce20\\uc99d\\uad8c\",\n          \"\\uc720\\uc9c4\\ud22c\\uc790\\uc99d\\uad8c\"\n        ],\n        \"semantic_type\": \"\",\n        \"description\": \"\"\n      }\n    },\n    {\n      \"column\": \"\\ub0a0\\uc9dc\",\n      \"properties\": {\n        \"dtype\": \"date\",\n        \"min\": \"2024-05-17 00:00:00\",\n        \"max\": \"2024-05-21 00:00:00\",\n        \"num_unique_values\": 2,\n        \"samples\": [\n          \"2024-05-17 00:00:00\",\n          \"2024-05-21 00:00:00\"\n        ],\n        \"semantic_type\": \"\",\n        \"description\": \"\"\n      }\n    }\n  ]\n}"
            }
          },
          "metadata": {}
        }
      ],
      "source": [
        "display(data.head(10))"
      ]
    },
    {
      "cell_type": "code",
      "execution_count": 23,
      "id": "c7b743ae",
      "metadata": {
        "id": "c7b743ae"
      },
      "outputs": [],
      "source": [
        "import time\n",
        "base_url = \"http://www.paxnet.co.kr/stock/report/report?menuCode=2222&currentPageNo={}&reportId=0&searchKey=stock&searchValue=\"\n",
        "data = []\n",
        "\n",
        "for page_no in range(1, 563):\n",
        "    # 웹 페이지 소스 가져오기\n",
        "    url = base_url.format(page_no)\n",
        "    while True:\n",
        "        response = requests.get(url)\n",
        "        if response.status_code == 200:\n",
        "            time.sleep(1)\n",
        "            break\n",
        "        else:\n",
        "            time.sleep(10 * 60)\n",
        "    html = response.content\n",
        "    html = BS(html)\n",
        "\n",
        "    # 웹 페이지 소스에서 필요한 부분만 가져오기\n",
        "    div = html.find(\"div\", attrs = {\"class\":\"board-type\"})\n",
        "    li_list = div.find_all(\"li\")\n",
        "    for li in li_list:\n",
        "        if check_str in str(li):\n",
        "            record = parsing_li(li)\n",
        "            data.append(record)\n",
        "\n",
        "data = pd.DataFrame(data, columns = [\"종목명\", \"리포트제목\", \"적정가격\", \"의견\", \"증권사\", \"날짜\"])"
      ]
    },
    {
      "cell_type": "code",
      "source": [
        "data"
      ],
      "metadata": {
        "colab": {
          "base_uri": "https://localhost:8080/",
          "height": 423
        },
        "id": "3p1bPqEM3Af6",
        "outputId": "68c097a6-cac4-4260-de21-3073b2cbe092"
      },
      "id": "3p1bPqEM3Af6",
      "execution_count": 24,
      "outputs": [
        {
          "output_type": "execute_result",
          "data": {
            "text/plain": [
              "          종목명                              리포트제목     적정가격      의견      증권사  \\\n",
              "0          엑셈        AI와 빅데이터로 혁신을 이끄는 소프트웨어 공급사        -       -  한국IR협의회   \n",
              "1        동양생명              Q24 Review: CSM 성장 지속     6400      매수    메리츠증권   \n",
              "2        삼성생명              1Q24 Review: 구체화될 방향성   110000      매수    메리츠증권   \n",
              "3         GKL                         드롭액 개선세 지속    19000      매수    유안타증권   \n",
              "4       메가스터디              #의대정원 확대 #주주환원 #밸류에이션    93000      매수    유안타증권   \n",
              "...       ...                                ...      ...     ...      ...   \n",
              "16855      농심  2Q18 Preview: 시장기대치를 하회하는 영업실적 예상   400000  매수(유지)   HI투자증권   \n",
              "16856     오뚜기  2Q18 Preview: 시장기대치에 부합하는 영업실적 예상  1100000  매수(유지)   HI투자증권   \n",
              "16857     오리온  2Q18 Preview: 시장기대치에 부합하는 영업실적 예상   180000  매수(유지)   HI투자증권   \n",
              "16858  CJ제일제당   2Q18 Preview:시장기대치에 부합하는 영업실적 예상   460000  매수(유지)   HI투자증권   \n",
              "16859    KT&G  2Q18 Preview: 시장기대치를 하회하는 영업실적 예상   130000  매수(유지)   HI투자증권   \n",
              "\n",
              "              날짜  \n",
              "0     2024-05-21  \n",
              "1     2024-05-21  \n",
              "2     2024-05-21  \n",
              "3     2024-05-21  \n",
              "4     2024-05-21  \n",
              "...          ...  \n",
              "16855 2018-07-04  \n",
              "16856 2018-07-04  \n",
              "16857 2018-07-04  \n",
              "16858 2018-07-04  \n",
              "16859 2018-07-04  \n",
              "\n",
              "[16860 rows x 6 columns]"
            ],
            "text/html": [
              "\n",
              "  <div id=\"df-cad74917-0aa7-4c63-93c8-77776355e595\" class=\"colab-df-container\">\n",
              "    <div>\n",
              "<style scoped>\n",
              "    .dataframe tbody tr th:only-of-type {\n",
              "        vertical-align: middle;\n",
              "    }\n",
              "\n",
              "    .dataframe tbody tr th {\n",
              "        vertical-align: top;\n",
              "    }\n",
              "\n",
              "    .dataframe thead th {\n",
              "        text-align: right;\n",
              "    }\n",
              "</style>\n",
              "<table border=\"1\" class=\"dataframe\">\n",
              "  <thead>\n",
              "    <tr style=\"text-align: right;\">\n",
              "      <th></th>\n",
              "      <th>종목명</th>\n",
              "      <th>리포트제목</th>\n",
              "      <th>적정가격</th>\n",
              "      <th>의견</th>\n",
              "      <th>증권사</th>\n",
              "      <th>날짜</th>\n",
              "    </tr>\n",
              "  </thead>\n",
              "  <tbody>\n",
              "    <tr>\n",
              "      <th>0</th>\n",
              "      <td>엑셈</td>\n",
              "      <td>AI와 빅데이터로 혁신을 이끄는 소프트웨어 공급사</td>\n",
              "      <td>-</td>\n",
              "      <td>-</td>\n",
              "      <td>한국IR협의회</td>\n",
              "      <td>2024-05-21</td>\n",
              "    </tr>\n",
              "    <tr>\n",
              "      <th>1</th>\n",
              "      <td>동양생명</td>\n",
              "      <td>Q24 Review: CSM 성장 지속</td>\n",
              "      <td>6400</td>\n",
              "      <td>매수</td>\n",
              "      <td>메리츠증권</td>\n",
              "      <td>2024-05-21</td>\n",
              "    </tr>\n",
              "    <tr>\n",
              "      <th>2</th>\n",
              "      <td>삼성생명</td>\n",
              "      <td>1Q24 Review: 구체화될 방향성</td>\n",
              "      <td>110000</td>\n",
              "      <td>매수</td>\n",
              "      <td>메리츠증권</td>\n",
              "      <td>2024-05-21</td>\n",
              "    </tr>\n",
              "    <tr>\n",
              "      <th>3</th>\n",
              "      <td>GKL</td>\n",
              "      <td>드롭액 개선세 지속</td>\n",
              "      <td>19000</td>\n",
              "      <td>매수</td>\n",
              "      <td>유안타증권</td>\n",
              "      <td>2024-05-21</td>\n",
              "    </tr>\n",
              "    <tr>\n",
              "      <th>4</th>\n",
              "      <td>메가스터디</td>\n",
              "      <td>#의대정원 확대 #주주환원 #밸류에이션</td>\n",
              "      <td>93000</td>\n",
              "      <td>매수</td>\n",
              "      <td>유안타증권</td>\n",
              "      <td>2024-05-21</td>\n",
              "    </tr>\n",
              "    <tr>\n",
              "      <th>...</th>\n",
              "      <td>...</td>\n",
              "      <td>...</td>\n",
              "      <td>...</td>\n",
              "      <td>...</td>\n",
              "      <td>...</td>\n",
              "      <td>...</td>\n",
              "    </tr>\n",
              "    <tr>\n",
              "      <th>16855</th>\n",
              "      <td>농심</td>\n",
              "      <td>2Q18 Preview: 시장기대치를 하회하는 영업실적 예상</td>\n",
              "      <td>400000</td>\n",
              "      <td>매수(유지)</td>\n",
              "      <td>HI투자증권</td>\n",
              "      <td>2018-07-04</td>\n",
              "    </tr>\n",
              "    <tr>\n",
              "      <th>16856</th>\n",
              "      <td>오뚜기</td>\n",
              "      <td>2Q18 Preview: 시장기대치에 부합하는 영업실적 예상</td>\n",
              "      <td>1100000</td>\n",
              "      <td>매수(유지)</td>\n",
              "      <td>HI투자증권</td>\n",
              "      <td>2018-07-04</td>\n",
              "    </tr>\n",
              "    <tr>\n",
              "      <th>16857</th>\n",
              "      <td>오리온</td>\n",
              "      <td>2Q18 Preview: 시장기대치에 부합하는 영업실적 예상</td>\n",
              "      <td>180000</td>\n",
              "      <td>매수(유지)</td>\n",
              "      <td>HI투자증권</td>\n",
              "      <td>2018-07-04</td>\n",
              "    </tr>\n",
              "    <tr>\n",
              "      <th>16858</th>\n",
              "      <td>CJ제일제당</td>\n",
              "      <td>2Q18 Preview:시장기대치에 부합하는 영업실적 예상</td>\n",
              "      <td>460000</td>\n",
              "      <td>매수(유지)</td>\n",
              "      <td>HI투자증권</td>\n",
              "      <td>2018-07-04</td>\n",
              "    </tr>\n",
              "    <tr>\n",
              "      <th>16859</th>\n",
              "      <td>KT&amp;G</td>\n",
              "      <td>2Q18 Preview: 시장기대치를 하회하는 영업실적 예상</td>\n",
              "      <td>130000</td>\n",
              "      <td>매수(유지)</td>\n",
              "      <td>HI투자증권</td>\n",
              "      <td>2018-07-04</td>\n",
              "    </tr>\n",
              "  </tbody>\n",
              "</table>\n",
              "<p>16860 rows × 6 columns</p>\n",
              "</div>\n",
              "    <div class=\"colab-df-buttons\">\n",
              "\n",
              "  <div class=\"colab-df-container\">\n",
              "    <button class=\"colab-df-convert\" onclick=\"convertToInteractive('df-cad74917-0aa7-4c63-93c8-77776355e595')\"\n",
              "            title=\"Convert this dataframe to an interactive table.\"\n",
              "            style=\"display:none;\">\n",
              "\n",
              "  <svg xmlns=\"http://www.w3.org/2000/svg\" height=\"24px\" viewBox=\"0 -960 960 960\">\n",
              "    <path d=\"M120-120v-720h720v720H120Zm60-500h600v-160H180v160Zm220 220h160v-160H400v160Zm0 220h160v-160H400v160ZM180-400h160v-160H180v160Zm440 0h160v-160H620v160ZM180-180h160v-160H180v160Zm440 0h160v-160H620v160Z\"/>\n",
              "  </svg>\n",
              "    </button>\n",
              "\n",
              "  <style>\n",
              "    .colab-df-container {\n",
              "      display:flex;\n",
              "      gap: 12px;\n",
              "    }\n",
              "\n",
              "    .colab-df-convert {\n",
              "      background-color: #E8F0FE;\n",
              "      border: none;\n",
              "      border-radius: 50%;\n",
              "      cursor: pointer;\n",
              "      display: none;\n",
              "      fill: #1967D2;\n",
              "      height: 32px;\n",
              "      padding: 0 0 0 0;\n",
              "      width: 32px;\n",
              "    }\n",
              "\n",
              "    .colab-df-convert:hover {\n",
              "      background-color: #E2EBFA;\n",
              "      box-shadow: 0px 1px 2px rgba(60, 64, 67, 0.3), 0px 1px 3px 1px rgba(60, 64, 67, 0.15);\n",
              "      fill: #174EA6;\n",
              "    }\n",
              "\n",
              "    .colab-df-buttons div {\n",
              "      margin-bottom: 4px;\n",
              "    }\n",
              "\n",
              "    [theme=dark] .colab-df-convert {\n",
              "      background-color: #3B4455;\n",
              "      fill: #D2E3FC;\n",
              "    }\n",
              "\n",
              "    [theme=dark] .colab-df-convert:hover {\n",
              "      background-color: #434B5C;\n",
              "      box-shadow: 0px 1px 3px 1px rgba(0, 0, 0, 0.15);\n",
              "      filter: drop-shadow(0px 1px 2px rgba(0, 0, 0, 0.3));\n",
              "      fill: #FFFFFF;\n",
              "    }\n",
              "  </style>\n",
              "\n",
              "    <script>\n",
              "      const buttonEl =\n",
              "        document.querySelector('#df-cad74917-0aa7-4c63-93c8-77776355e595 button.colab-df-convert');\n",
              "      buttonEl.style.display =\n",
              "        google.colab.kernel.accessAllowed ? 'block' : 'none';\n",
              "\n",
              "      async function convertToInteractive(key) {\n",
              "        const element = document.querySelector('#df-cad74917-0aa7-4c63-93c8-77776355e595');\n",
              "        const dataTable =\n",
              "          await google.colab.kernel.invokeFunction('convertToInteractive',\n",
              "                                                    [key], {});\n",
              "        if (!dataTable) return;\n",
              "\n",
              "        const docLinkHtml = 'Like what you see? Visit the ' +\n",
              "          '<a target=\"_blank\" href=https://colab.research.google.com/notebooks/data_table.ipynb>data table notebook</a>'\n",
              "          + ' to learn more about interactive tables.';\n",
              "        element.innerHTML = '';\n",
              "        dataTable['output_type'] = 'display_data';\n",
              "        await google.colab.output.renderOutput(dataTable, element);\n",
              "        const docLink = document.createElement('div');\n",
              "        docLink.innerHTML = docLinkHtml;\n",
              "        element.appendChild(docLink);\n",
              "      }\n",
              "    </script>\n",
              "  </div>\n",
              "\n",
              "\n",
              "<div id=\"df-67c82cb0-cf6c-439f-9046-f8f21f0c2deb\">\n",
              "  <button class=\"colab-df-quickchart\" onclick=\"quickchart('df-67c82cb0-cf6c-439f-9046-f8f21f0c2deb')\"\n",
              "            title=\"Suggest charts\"\n",
              "            style=\"display:none;\">\n",
              "\n",
              "<svg xmlns=\"http://www.w3.org/2000/svg\" height=\"24px\"viewBox=\"0 0 24 24\"\n",
              "     width=\"24px\">\n",
              "    <g>\n",
              "        <path d=\"M19 3H5c-1.1 0-2 .9-2 2v14c0 1.1.9 2 2 2h14c1.1 0 2-.9 2-2V5c0-1.1-.9-2-2-2zM9 17H7v-7h2v7zm4 0h-2V7h2v10zm4 0h-2v-4h2v4z\"/>\n",
              "    </g>\n",
              "</svg>\n",
              "  </button>\n",
              "\n",
              "<style>\n",
              "  .colab-df-quickchart {\n",
              "      --bg-color: #E8F0FE;\n",
              "      --fill-color: #1967D2;\n",
              "      --hover-bg-color: #E2EBFA;\n",
              "      --hover-fill-color: #174EA6;\n",
              "      --disabled-fill-color: #AAA;\n",
              "      --disabled-bg-color: #DDD;\n",
              "  }\n",
              "\n",
              "  [theme=dark] .colab-df-quickchart {\n",
              "      --bg-color: #3B4455;\n",
              "      --fill-color: #D2E3FC;\n",
              "      --hover-bg-color: #434B5C;\n",
              "      --hover-fill-color: #FFFFFF;\n",
              "      --disabled-bg-color: #3B4455;\n",
              "      --disabled-fill-color: #666;\n",
              "  }\n",
              "\n",
              "  .colab-df-quickchart {\n",
              "    background-color: var(--bg-color);\n",
              "    border: none;\n",
              "    border-radius: 50%;\n",
              "    cursor: pointer;\n",
              "    display: none;\n",
              "    fill: var(--fill-color);\n",
              "    height: 32px;\n",
              "    padding: 0;\n",
              "    width: 32px;\n",
              "  }\n",
              "\n",
              "  .colab-df-quickchart:hover {\n",
              "    background-color: var(--hover-bg-color);\n",
              "    box-shadow: 0 1px 2px rgba(60, 64, 67, 0.3), 0 1px 3px 1px rgba(60, 64, 67, 0.15);\n",
              "    fill: var(--button-hover-fill-color);\n",
              "  }\n",
              "\n",
              "  .colab-df-quickchart-complete:disabled,\n",
              "  .colab-df-quickchart-complete:disabled:hover {\n",
              "    background-color: var(--disabled-bg-color);\n",
              "    fill: var(--disabled-fill-color);\n",
              "    box-shadow: none;\n",
              "  }\n",
              "\n",
              "  .colab-df-spinner {\n",
              "    border: 2px solid var(--fill-color);\n",
              "    border-color: transparent;\n",
              "    border-bottom-color: var(--fill-color);\n",
              "    animation:\n",
              "      spin 1s steps(1) infinite;\n",
              "  }\n",
              "\n",
              "  @keyframes spin {\n",
              "    0% {\n",
              "      border-color: transparent;\n",
              "      border-bottom-color: var(--fill-color);\n",
              "      border-left-color: var(--fill-color);\n",
              "    }\n",
              "    20% {\n",
              "      border-color: transparent;\n",
              "      border-left-color: var(--fill-color);\n",
              "      border-top-color: var(--fill-color);\n",
              "    }\n",
              "    30% {\n",
              "      border-color: transparent;\n",
              "      border-left-color: var(--fill-color);\n",
              "      border-top-color: var(--fill-color);\n",
              "      border-right-color: var(--fill-color);\n",
              "    }\n",
              "    40% {\n",
              "      border-color: transparent;\n",
              "      border-right-color: var(--fill-color);\n",
              "      border-top-color: var(--fill-color);\n",
              "    }\n",
              "    60% {\n",
              "      border-color: transparent;\n",
              "      border-right-color: var(--fill-color);\n",
              "    }\n",
              "    80% {\n",
              "      border-color: transparent;\n",
              "      border-right-color: var(--fill-color);\n",
              "      border-bottom-color: var(--fill-color);\n",
              "    }\n",
              "    90% {\n",
              "      border-color: transparent;\n",
              "      border-bottom-color: var(--fill-color);\n",
              "    }\n",
              "  }\n",
              "</style>\n",
              "\n",
              "  <script>\n",
              "    async function quickchart(key) {\n",
              "      const quickchartButtonEl =\n",
              "        document.querySelector('#' + key + ' button');\n",
              "      quickchartButtonEl.disabled = true;  // To prevent multiple clicks.\n",
              "      quickchartButtonEl.classList.add('colab-df-spinner');\n",
              "      try {\n",
              "        const charts = await google.colab.kernel.invokeFunction(\n",
              "            'suggestCharts', [key], {});\n",
              "      } catch (error) {\n",
              "        console.error('Error during call to suggestCharts:', error);\n",
              "      }\n",
              "      quickchartButtonEl.classList.remove('colab-df-spinner');\n",
              "      quickchartButtonEl.classList.add('colab-df-quickchart-complete');\n",
              "    }\n",
              "    (() => {\n",
              "      let quickchartButtonEl =\n",
              "        document.querySelector('#df-67c82cb0-cf6c-439f-9046-f8f21f0c2deb button');\n",
              "      quickchartButtonEl.style.display =\n",
              "        google.colab.kernel.accessAllowed ? 'block' : 'none';\n",
              "    })();\n",
              "  </script>\n",
              "</div>\n",
              "\n",
              "  <div id=\"id_964176fa-72af-4199-a8a1-fd981f78321f\">\n",
              "    <style>\n",
              "      .colab-df-generate {\n",
              "        background-color: #E8F0FE;\n",
              "        border: none;\n",
              "        border-radius: 50%;\n",
              "        cursor: pointer;\n",
              "        display: none;\n",
              "        fill: #1967D2;\n",
              "        height: 32px;\n",
              "        padding: 0 0 0 0;\n",
              "        width: 32px;\n",
              "      }\n",
              "\n",
              "      .colab-df-generate:hover {\n",
              "        background-color: #E2EBFA;\n",
              "        box-shadow: 0px 1px 2px rgba(60, 64, 67, 0.3), 0px 1px 3px 1px rgba(60, 64, 67, 0.15);\n",
              "        fill: #174EA6;\n",
              "      }\n",
              "\n",
              "      [theme=dark] .colab-df-generate {\n",
              "        background-color: #3B4455;\n",
              "        fill: #D2E3FC;\n",
              "      }\n",
              "\n",
              "      [theme=dark] .colab-df-generate:hover {\n",
              "        background-color: #434B5C;\n",
              "        box-shadow: 0px 1px 3px 1px rgba(0, 0, 0, 0.15);\n",
              "        filter: drop-shadow(0px 1px 2px rgba(0, 0, 0, 0.3));\n",
              "        fill: #FFFFFF;\n",
              "      }\n",
              "    </style>\n",
              "    <button class=\"colab-df-generate\" onclick=\"generateWithVariable('data')\"\n",
              "            title=\"Generate code using this dataframe.\"\n",
              "            style=\"display:none;\">\n",
              "\n",
              "  <svg xmlns=\"http://www.w3.org/2000/svg\" height=\"24px\"viewBox=\"0 0 24 24\"\n",
              "       width=\"24px\">\n",
              "    <path d=\"M7,19H8.4L18.45,9,17,7.55,7,17.6ZM5,21V16.75L18.45,3.32a2,2,0,0,1,2.83,0l1.4,1.43a1.91,1.91,0,0,1,.58,1.4,1.91,1.91,0,0,1-.58,1.4L9.25,21ZM18.45,9,17,7.55Zm-12,3A5.31,5.31,0,0,0,4.9,8.1,5.31,5.31,0,0,0,1,6.5,5.31,5.31,0,0,0,4.9,4.9,5.31,5.31,0,0,0,6.5,1,5.31,5.31,0,0,0,8.1,4.9,5.31,5.31,0,0,0,12,6.5,5.46,5.46,0,0,0,6.5,12Z\"/>\n",
              "  </svg>\n",
              "    </button>\n",
              "    <script>\n",
              "      (() => {\n",
              "      const buttonEl =\n",
              "        document.querySelector('#id_964176fa-72af-4199-a8a1-fd981f78321f button.colab-df-generate');\n",
              "      buttonEl.style.display =\n",
              "        google.colab.kernel.accessAllowed ? 'block' : 'none';\n",
              "\n",
              "      buttonEl.onclick = () => {\n",
              "        google.colab.notebook.generateWithVariable('data');\n",
              "      }\n",
              "      })();\n",
              "    </script>\n",
              "  </div>\n",
              "\n",
              "    </div>\n",
              "  </div>\n"
            ],
            "application/vnd.google.colaboratory.intrinsic+json": {
              "type": "dataframe",
              "variable_name": "data",
              "summary": "{\n  \"name\": \"data\",\n  \"rows\": 16860,\n  \"fields\": [\n    {\n      \"column\": \"\\uc885\\ubaa9\\uba85\",\n      \"properties\": {\n        \"dtype\": \"category\",\n        \"num_unique_values\": 1701,\n        \"samples\": [\n          \"\\uc2e4\\ub9ac\\ucf58\\uc6cd\\uc2a4\",\n          \"\\ub514\\uc5d0\\uc774\\ud53c\",\n          \"\\ud1a0\\ub9c8\\ud1a0\\uc2dc\\uc2a4\\ud15c\"\n        ],\n        \"semantic_type\": \"\",\n        \"description\": \"\"\n      }\n    },\n    {\n      \"column\": \"\\ub9ac\\ud3ec\\ud2b8\\uc81c\\ubaa9\",\n      \"properties\": {\n        \"dtype\": \"string\",\n        \"num_unique_values\": 16459,\n        \"samples\": [\n          \"\\uc0c8\\ub85c\\uc6b4 \\ucd9c\\ubc1c\\uacfc \\ud638\\ud669 Cycle\\uc774 \\ub9cc\\ub098\\ub2e4\",\n          \"\\uae00\\ub85c\\ubc8c \\uc758\\ub8cc\\uae30\\uae30 \\ub300\\uae30\\uc5c5\\ub4e4\\uc774 \\uc8fc\\uc2dc\\ud55c\\ub2e4.\",\n          \"\\ud2b9\\uc218\\uc12c\\uc720\\ubd80\\ubb38, \\ud134\\uc5b4\\ub77c\\uc6b4\\ub4dc \\uc911... \"\n        ],\n        \"semantic_type\": \"\",\n        \"description\": \"\"\n      }\n    },\n    {\n      \"column\": \"\\uc801\\uc815\\uac00\\uaca9\",\n      \"properties\": {\n        \"dtype\": \"category\",\n        \"num_unique_values\": 632,\n        \"samples\": [\n          \"8300\",\n          \"8400\",\n          \"256000\"\n        ],\n        \"semantic_type\": \"\",\n        \"description\": \"\"\n      }\n    },\n    {\n      \"column\": \"\\uc758\\uacac\",\n      \"properties\": {\n        \"dtype\": \"category\",\n        \"num_unique_values\": 17,\n        \"samples\": [\n          \"-\",\n          \"\\ub9e4\\uc218\",\n          \"\\uc2dc\\uc7a5\\ud3c9\\uade0\"\n        ],\n        \"semantic_type\": \"\",\n        \"description\": \"\"\n      }\n    },\n    {\n      \"column\": \"\\uc99d\\uad8c\\uc0ac\",\n      \"properties\": {\n        \"dtype\": \"category\",\n        \"num_unique_values\": 29,\n        \"samples\": [\n          \"\\uc774\\ubca0\\uc2a4\\ud2b8\",\n          \"\\ud55c\\uad6d\\uae30\\uc5c5\\ub370\\uc774\\ud130\",\n          \"\\ud55c\\uc591\\uc99d\\uad8c\"\n        ],\n        \"semantic_type\": \"\",\n        \"description\": \"\"\n      }\n    },\n    {\n      \"column\": \"\\ub0a0\\uc9dc\",\n      \"properties\": {\n        \"dtype\": \"date\",\n        \"min\": \"2018-07-04 00:00:00\",\n        \"max\": \"2024-05-21 00:00:00\",\n        \"num_unique_values\": 1345,\n        \"samples\": [\n          \"2022-12-23 00:00:00\",\n          \"2023-02-09 00:00:00\",\n          \"2019-01-04 00:00:00\"\n        ],\n        \"semantic_type\": \"\",\n        \"description\": \"\"\n      }\n    }\n  ]\n}"
            }
          },
          "metadata": {},
          "execution_count": 24
        }
      ]
    },
    {
      "cell_type": "code",
      "execution_count": null,
      "id": "24fbd747",
      "metadata": {
        "id": "24fbd747"
      },
      "outputs": [],
      "source": [
        "data.to_csv(\"종목리포트.csv\")"
      ]
    }
  ],
  "metadata": {
    "kernelspec": {
      "display_name": "Python 3",
      "language": "python",
      "name": "python3"
    },
    "language_info": {
      "codemirror_mode": {
        "name": "ipython",
        "version": 3
      },
      "file_extension": ".py",
      "mimetype": "text/x-python",
      "name": "python",
      "nbconvert_exporter": "python",
      "pygments_lexer": "ipython3",
      "version": "3.8.8"
    },
    "colab": {
      "provenance": [],
      "include_colab_link": true
    }
  },
  "nbformat": 4,
  "nbformat_minor": 5
}
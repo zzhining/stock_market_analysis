{
  "cells": [
    {
      "cell_type": "markdown",
      "metadata": {
        "id": "view-in-github",
        "colab_type": "text"
      },
      "source": [
        "<a href=\"https://colab.research.google.com/github/zzhining/stock_market_analysis/blob/main/4%EC%A3%BC%EC%B0%A8/05_OpenDartReader_data_preprocessing.ipynb\" target=\"_parent\"><img src=\"https://colab.research.google.com/assets/colab-badge.svg\" alt=\"Open In Colab\"/></a>"
      ]
    },
    {
      "cell_type": "markdown",
      "id": "1ba90ce1",
      "metadata": {
        "id": "1ba90ce1"
      },
      "source": [
        "### 데이터 파싱 전략 수립"
      ]
    },
    {
      "cell_type": "code",
      "source": [
        "pip install OpenDartReader"
      ],
      "metadata": {
        "id": "wFdusYm-iTFy"
      },
      "id": "wFdusYm-iTFy",
      "execution_count": null,
      "outputs": []
    },
    {
      "cell_type": "code",
      "execution_count": null,
      "id": "76fead21",
      "metadata": {
        "id": "76fead21"
      },
      "outputs": [],
      "source": [
        "import OpenDartReader\n",
        "my_api = \"apikey\"\n",
        "dart = OpenDartReader(my_api)"
      ]
    },
    {
      "cell_type": "code",
      "source": [
        "from google.colab import drive\n",
        "drive.mount('/content/drive')"
      ],
      "metadata": {
        "id": "b32ly0cpiOWZ"
      },
      "id": "b32ly0cpiOWZ",
      "execution_count": null,
      "outputs": []
    },
    {
      "cell_type": "code",
      "source": [
        "path = '/content/drive/MyDrive/Colab Notebooks/주가데이터분석/데이터/'"
      ],
      "metadata": {
        "id": "DRHfegZdiQqe"
      },
      "id": "DRHfegZdiQqe",
      "execution_count": null,
      "outputs": []
    },
    {
      "cell_type": "code",
      "execution_count": null,
      "id": "02b51fb5",
      "metadata": {
        "id": "02b51fb5"
      },
      "outputs": [],
      "source": [
        "import pandas as pd\n",
        "\n",
        "stock_list = pd.read_csv(\n",
        "    \"../../데이터/종목정보.txt\",\n",
        "    encoding=\"euc-kr\",\n",
        "    sep=\"\\t\",\n",
        "    usecols=[\"Name\", \"Symbol\"],\n",
        "    dtype=str)"
      ]
    },
    {
      "cell_type": "code",
      "execution_count": null,
      "id": "186155d1",
      "metadata": {
        "id": "186155d1"
      },
      "outputs": [],
      "source": [
        "report = dart.finstate(\"005380\", 2020)\n",
        "display(report[[\"fs_nm\", \"account_nm\", \"thstrm_amount\", \"frmtrm_amount\", \"bfefrmtrm_amount\"]])"
      ]
    },
    {
      "cell_type": "markdown",
      "id": "2737a87a",
      "metadata": {
        "id": "2737a87a"
      },
      "source": [
        "### 데이터 파싱"
      ]
    },
    {
      "cell_type": "markdown",
      "id": "d33103f6",
      "metadata": {
        "id": "d33103f6"
      },
      "source": [
        "#### 데이터 파싱 함수 작성"
      ]
    },
    {
      "cell_type": "code",
      "execution_count": null,
      "id": "4dfa6f8a",
      "metadata": {
        "id": "4dfa6f8a"
      },
      "outputs": [],
      "source": [
        "import numpy as np\n",
        "import pandas as pd\n",
        "\n",
        "def find_fins_ind_list(stock_code, stock_name, year, ind_list):\n",
        "    try: # 데이터 가져오기\n",
        "        report = None\n",
        "        report = dart.finstate(stock_code, year)\n",
        "    except:\n",
        "        pass\n",
        "\n",
        "    if report is None:  # 리포트가 없다면 (참고: 리포트가 없으면 None을 반환함)\n",
        "        # 리포트가 없으면 당기, 전기, 전전기 값 모두 제거\n",
        "        data = [[stock_name, year] + [np.nan] * len(ind_list)]\n",
        "        data.append([stock_name, year - 1] + [np.nan] * len(ind_list))\n",
        "        data.append([stock_name, year - 2] + [np.nan] * len(ind_list))\n",
        "\n",
        "    else:\n",
        "        report = report[report[\"account_nm\"].isin(ind_list)]  # 관련 지표로 필터링\n",
        "        if sum(report[\"fs_nm\"] == \"연결재무제표\") > 0:\n",
        "            # 연결재무제표 데이터가 있으면 연결재무제표를 사용\n",
        "            report = report.loc[report[\"fs_nm\"] == \"연결재무제표\"]\n",
        "        else:\n",
        "            # 연결재무제표 데이터가 없으면 일반재무제표를 사용\n",
        "            report = report.loc[report[\"fs_nm\"] == \"재무제표\"]\n",
        "        data = []\n",
        "        for y, c in zip([year, year - 1, year - 2],\n",
        "                        [\"thstrm_amount\", \"frmtrm_amount\", \"bfefrmtrm_amount\"]):\n",
        "            record = [stock_name, y]\n",
        "            for ind in ind_list:\n",
        "                # account_nm이 indic인 행의 c 컬럼 값을 가져옴\n",
        "                if sum(report[\"account_nm\"] == ind) > 0:\n",
        "                    value = report.loc[report[\"account_nm\"] == ind, c].iloc[0]\n",
        "                else:\n",
        "                    value = np.nan\n",
        "                record.append(value)\n",
        "            data.append(record)\n",
        "\n",
        "    return pd.DataFrame(data, columns=[\"기업\", \"연도\"] + ind_list)"
      ]
    },
    {
      "cell_type": "code",
      "execution_count": null,
      "id": "cc2342d4",
      "metadata": {
        "id": "cc2342d4"
      },
      "outputs": [],
      "source": [
        "ind_list = ['자산총계', '부채총계', '자본총계', '매출액', '영업이익', '당기순이익']\n",
        "display(find_fins_ind_list(\"005930\", \"삼성전자\", 2020, ind_list))"
      ]
    },
    {
      "cell_type": "markdown",
      "id": "248b05d4",
      "metadata": {
        "id": "248b05d4"
      },
      "source": [
        "#### 데이터 수집"
      ]
    },
    {
      "cell_type": "code",
      "execution_count": null,
      "id": "9a3e44aa",
      "metadata": {
        "scrolled": true,
        "id": "9a3e44aa"
      },
      "outputs": [],
      "source": [
        "import time\n",
        "data = pd.DataFrame() # 이 데이터프레임에 각각의 데이터를 추가할 예정\n",
        "for code, name in stock_list[['Symbol', 'Name']].values:\n",
        "    print(name)\n",
        "    for year in [2015, 2018, 2020]:\n",
        "        result = find_fins_ind_list(code, name, year, ind_list) # 재무지표 데이터\n",
        "        data = pd.concat([data, result], axis = 0, ignore_index = True) # data에 부착\n",
        "        time.sleep(0.5)"
      ]
    },
    {
      "cell_type": "markdown",
      "id": "d31eedeb",
      "metadata": {
        "id": "d31eedeb"
      },
      "source": [
        "### 데이터 정제"
      ]
    },
    {
      "cell_type": "code",
      "execution_count": null,
      "id": "d7a0f9af",
      "metadata": {
        "id": "d7a0f9af"
      },
      "outputs": [],
      "source": [
        "data.drop_duplicates(inplace = True)\n",
        "data.sort_values(by = ['기업', '연도'], inplace = True)"
      ]
    },
    {
      "cell_type": "code",
      "execution_count": null,
      "id": "e2093448",
      "metadata": {
        "scrolled": true,
        "id": "e2093448"
      },
      "outputs": [],
      "source": [
        "display(data.head())"
      ]
    },
    {
      "cell_type": "code",
      "execution_count": null,
      "id": "b657b257",
      "metadata": {
        "id": "b657b257"
      },
      "outputs": [],
      "source": [
        "# 숫자로 모두 변환\n",
        "def convert_str_to_float(value):\n",
        "    if type(value) == float: # nan의 자료형은 float임\n",
        "        return value\n",
        "    elif value == '-': # -로 되어 있으면 0으로 변환\n",
        "        return 0\n",
        "    else:\n",
        "        return float(value.replace(',', ''))\n",
        "\n",
        "for ind in ind_list:\n",
        "    data[ind] = data[ind].apply(convert_str_to_float)"
      ]
    },
    {
      "cell_type": "code",
      "execution_count": null,
      "id": "a9805697",
      "metadata": {
        "id": "a9805697"
      },
      "outputs": [],
      "source": [
        "display(data.head())"
      ]
    },
    {
      "cell_type": "markdown",
      "id": "aef442d3",
      "metadata": {
        "id": "aef442d3"
      },
      "source": [
        "### 주요 지표 계산"
      ]
    },
    {
      "cell_type": "markdown",
      "id": "8e230b4d",
      "metadata": {
        "id": "8e230b4d"
      },
      "source": [
        "#### 부채비율"
      ]
    },
    {
      "cell_type": "code",
      "execution_count": null,
      "id": "916b4dfb",
      "metadata": {
        "id": "916b4dfb"
      },
      "outputs": [],
      "source": [
        "data['부채비율'] = data['부채총계'] / data['자본총계'] * 100\n",
        "display(data['부채비율'].head())"
      ]
    },
    {
      "cell_type": "markdown",
      "id": "40298bd9",
      "metadata": {
        "id": "40298bd9"
      },
      "source": [
        "#### 매출액 증가율, 영업이익 증가율, 당기순이익 증가율"
      ]
    },
    {
      "cell_type": "code",
      "execution_count": null,
      "id": "605ae7d7",
      "metadata": {
        "id": "605ae7d7"
      },
      "outputs": [],
      "source": [
        "data['매출액증가율'] = (data['매출액'].diff() / data['매출액'].shift(1)) * 100\n",
        "data.loc[data['연도'] == 2013, '매출액증가율'] = np.nan"
      ]
    },
    {
      "cell_type": "code",
      "execution_count": null,
      "id": "cf6732a4",
      "metadata": {
        "id": "cf6732a4"
      },
      "outputs": [],
      "source": [
        "data['영업이익증가율'] = (data['영업이익'].diff() / data['영업이익'].shift(1)) * 100\n",
        "data.loc[data['연도'] == 2013, '영업이익증가율'] = np.nan\n",
        "\n",
        "data['당기순이익증가율'] = (data['당기순이익'].diff() / data['당기순이익'].shift(1)) * 100\n",
        "data.loc[data['연도'] == 2013, '당기순이익증가율'] = np.nan"
      ]
    },
    {
      "cell_type": "code",
      "execution_count": null,
      "id": "2bb7fe43",
      "metadata": {
        "id": "2bb7fe43"
      },
      "outputs": [],
      "source": [
        "data = data.replace({np.inf:np.nan, -np.inf: np.nan})"
      ]
    },
    {
      "cell_type": "markdown",
      "id": "7a890887",
      "metadata": {
        "id": "7a890887"
      },
      "source": [
        "#### 매출액 상태, 영업이익 상태, 당기순이익 상태"
      ]
    },
    {
      "cell_type": "code",
      "execution_count": null,
      "id": "dbf66bff",
      "metadata": {
        "id": "dbf66bff"
      },
      "outputs": [],
      "source": [
        "# 상태를 나타내는 함수 정의\n",
        "def add_state(data, col):\n",
        "    data[col + \"_상태\"] = np.nan # 상태를 결측으로 초기화\n",
        "    value = data[col].values\n",
        "    cur_value = value[1:]\n",
        "    pre_value = value[:-1]\n",
        "    # 흑자지속\n",
        "    cond1 = (cur_value > 0) & (pre_value > 0)\n",
        "    cond1 = np.insert(cond1, 0, np.nan)\n",
        "    # 적자지속\n",
        "    cond2 = (cur_value <= 0) & (pre_value <= 0)\n",
        "    cond2 = np.insert(cond2, 0, np.nan)\n",
        "    # 흑자전환\n",
        "    cond3 = (cur_value > 0) & (pre_value <= 0)\n",
        "    cond3 = np.insert(cond3, 0, np.nan)\n",
        "    # 적자전환\n",
        "    cond4 = (cur_value <= 0) & (pre_value > 0)\n",
        "    cond4 = np.insert(cond4, 0, np.nan)\n",
        "\n",
        "    # 조건에 따른 변환\n",
        "    data.loc[cond1, col + \"_상태\"] = \"흑자지속\"\n",
        "    data.loc[cond2, col + \"_상태\"] = \"적자지속\"\n",
        "    data.loc[cond3, col + \"_상태\"] = \"흑자전환\"\n",
        "    data.loc[cond4, col + \"_상태\"] = \"적자전환\""
      ]
    },
    {
      "cell_type": "code",
      "execution_count": null,
      "id": "45bf3060",
      "metadata": {
        "id": "45bf3060"
      },
      "outputs": [],
      "source": [
        "add_state(data, \"매출액\")\n",
        "add_state(data, \"영업이익\")\n",
        "add_state(data, \"당기순이익\")"
      ]
    },
    {
      "cell_type": "markdown",
      "id": "b11a989e",
      "metadata": {
        "id": "b11a989e"
      },
      "source": [
        "#### ROA"
      ]
    },
    {
      "cell_type": "code",
      "execution_count": null,
      "id": "2ba82b9e",
      "metadata": {
        "id": "2ba82b9e"
      },
      "outputs": [],
      "source": [
        "data['ROA'] = (data['당기순이익'] / data['자산총계']) * 100"
      ]
    },
    {
      "cell_type": "markdown",
      "id": "9fc978cc",
      "metadata": {
        "id": "9fc978cc"
      },
      "source": [
        "#### ROE"
      ]
    },
    {
      "cell_type": "code",
      "execution_count": null,
      "id": "5af0a5ee",
      "metadata": {
        "id": "5af0a5ee"
      },
      "outputs": [],
      "source": [
        "average_equity = data['자본총계'].rolling(2).mean() # 평균 자기 자본\n",
        "data['ROE'] = (data['당기순이익'] / average_equity) * 100\n",
        "data.loc[data['연도'] == 2013, 'ROE'] = np.nan"
      ]
    },
    {
      "cell_type": "markdown",
      "id": "83a94cd9",
      "metadata": {
        "id": "83a94cd9"
      },
      "source": [
        "#### 데이터 저장"
      ]
    },
    {
      "cell_type": "code",
      "execution_count": null,
      "id": "5184309f",
      "metadata": {
        "id": "5184309f"
      },
      "outputs": [],
      "source": [
        "data.to_csv(\"../../데이터/주요재무지표_수정.csv\", index = False, encoding = \"euc-kr\")"
      ]
    }
  ],
  "metadata": {
    "kernelspec": {
      "display_name": "Python 3",
      "language": "python",
      "name": "python3"
    },
    "language_info": {
      "codemirror_mode": {
        "name": "ipython",
        "version": 3
      },
      "file_extension": ".py",
      "mimetype": "text/x-python",
      "name": "python",
      "nbconvert_exporter": "python",
      "pygments_lexer": "ipython3",
      "version": "3.8.8"
    },
    "colab": {
      "provenance": [],
      "include_colab_link": true
    }
  },
  "nbformat": 4,
  "nbformat_minor": 5
}
{
  "nbformat": 4,
  "nbformat_minor": 0,
  "metadata": {
    "colab": {
      "private_outputs": true,
      "provenance": [],
      "toc_visible": true,
      "authorship_tag": "ABX9TyMRxaRbGBGKdtyc4eqGLYpC",
      "include_colab_link": true
    },
    "kernelspec": {
      "name": "python3",
      "display_name": "Python 3"
    },
    "language_info": {
      "name": "python"
    }
  },
  "cells": [
    {
      "cell_type": "markdown",
      "metadata": {
        "id": "view-in-github",
        "colab_type": "text"
      },
      "source": [
        "<a href=\"https://colab.research.google.com/github/zzhining/stock_market_analysis/blob/main/22_short_term_trading_algorithm.ipynb\" target=\"_parent\"><img src=\"https://colab.research.google.com/assets/colab-badge.svg\" alt=\"Open In Colab\"/></a>"
      ]
    },
    {
      "cell_type": "code",
      "execution_count": null,
      "metadata": {
        "id": "ng4WQ9hEKECN"
      },
      "outputs": [],
      "source": [
        "!pip install finterstellar"
      ]
    },
    {
      "cell_type": "code",
      "source": [
        "import finterstellar as fs"
      ],
      "metadata": {
        "id": "30l90tKkKGi8"
      },
      "execution_count": null,
      "outputs": []
    },
    {
      "cell_type": "markdown",
      "source": [
        "# MACD(이동평균)"
      ],
      "metadata": {
        "id": "4nOQmDepOcYX"
      }
    },
    {
      "cell_type": "markdown",
      "source": [
        "- Moving Average Convergence Divergence\n",
        "- 이동평균수렴확산지수"
      ],
      "metadata": {
        "id": "_RgRlBj4Ojsr"
      }
    },
    {
      "cell_type": "code",
      "source": [
        "symbol = 'MSFT'\n",
        "df = fs.get_price(symbol, start_date = '2023-01-01', end_date = '2024-04-09')\n",
        "fs.draw_chart(df, right=symbol)"
      ],
      "metadata": {
        "id": "f26hafMuKIdW"
      },
      "execution_count": null,
      "outputs": []
    },
    {
      "cell_type": "code",
      "source": [
        "fs.macd(df)"
      ],
      "metadata": {
        "id": "IAalKmibKZ9a"
      },
      "execution_count": null,
      "outputs": []
    },
    {
      "cell_type": "code",
      "source": [
        "fs.draw_chart(df, right=['macd', 'macd_signal', 'macd_oscillator'])"
      ],
      "metadata": {
        "id": "qaj40E9qKfwt"
      },
      "execution_count": null,
      "outputs": []
    },
    {
      "cell_type": "code",
      "source": [
        "fs.indicator_to_signal(df, factor='macd_oscillator', buy=0, sell=0)"
      ],
      "metadata": {
        "id": "TKfIWw5CKpiE"
      },
      "execution_count": null,
      "outputs": []
    },
    {
      "cell_type": "code",
      "source": [
        "fs.position(df)\n",
        "fs.draw_chart(df, right='position_chart', left='macd_oscillator')"
      ],
      "metadata": {
        "id": "amLXjErEK3H7"
      },
      "execution_count": null,
      "outputs": []
    },
    {
      "cell_type": "code",
      "source": [
        "fs.evaluate(df, cost=.001)\n",
        "fs.performance(df, rf_rate = 0.01)\n",
        "fs.draw_trade_results(df)"
      ],
      "metadata": {
        "id": "sas-qpo1LB0Z"
      },
      "execution_count": null,
      "outputs": []
    },
    {
      "cell_type": "markdown",
      "source": [
        "# RSI"
      ],
      "metadata": {
        "id": "2pcVI46xL3IB"
      }
    },
    {
      "cell_type": "markdown",
      "source": [
        "- Relative Strength Index\n",
        "- 상대강도지수"
      ],
      "metadata": {
        "id": "wwQ__PQJOyH_"
      }
    },
    {
      "cell_type": "code",
      "source": [
        "symbol = 'VZ'\n",
        "df = fs.get_price(symbol, start_date = '2023-01-01', end_date='2024-04-09')\n",
        "fs.draw_chart(df, right=symbol)"
      ],
      "metadata": {
        "id": "sMc-Q0d9LP7r"
      },
      "execution_count": null,
      "outputs": []
    },
    {
      "cell_type": "code",
      "source": [
        "fs.rsi(df, w=14)\n",
        "fs.draw_chart(df, left='rsi', right=symbol)"
      ],
      "metadata": {
        "id": "fvtS6HjsMErs"
      },
      "execution_count": null,
      "outputs": []
    },
    {
      "cell_type": "code",
      "source": [
        "fs.indicator_to_signal(df, factor='rsi', buy=30, sell=70)\n",
        "fs.position(df)\n",
        "fs.evaluate(df, cost=.001)\n",
        "fs.performance(df, rf_rate = 0.01)\n",
        "fs.draw_trade_results(df)"
      ],
      "metadata": {
        "id": "Rij7H3EgMLwY"
      },
      "execution_count": null,
      "outputs": []
    },
    {
      "cell_type": "code",
      "source": [
        "fs.indicator_to_signal(df, factor='rsi', buy=70, sell=50)\n",
        "fs.position(df)\n",
        "fs.evaluate(df, cost=.001)\n",
        "fs.performance(df, rf_rate = 0.01)\n",
        "fs.draw_trade_results(df)"
      ],
      "metadata": {
        "id": "nwr6q4GeMYFf"
      },
      "execution_count": null,
      "outputs": []
    },
    {
      "cell_type": "markdown",
      "source": [
        "# 엔벨로프\n",
        "- envelope\n",
        "- 차트상에서 현재 가격이 그래프의 어느 영역에 있는지를 확인\n",
        "- A구역: 밴드 상단보다 위 구간\n",
        "- B구역: 밴드 중심과 상단 사이\n",
        "- C구역: 밴드 하단과 중심 사이\n",
        "- D구역: 밴드 하단 아래 구간"
      ],
      "metadata": {
        "id": "8UAz1xjMMp6s"
      }
    },
    {
      "cell_type": "code",
      "source": [
        "symbol = 'BA'\n",
        "df = fs.get_price(symbol, start_date = '2023-01-01', end_date='2024-04-09')\n",
        "fs.draw_chart(df, right=symbol)"
      ],
      "metadata": {
        "id": "6_igXzmOMe9C"
      },
      "execution_count": null,
      "outputs": []
    },
    {
      "cell_type": "code",
      "source": [
        "fs.envelope(df, w=20, spread=.1)\n",
        "df.tail()"
      ],
      "metadata": {
        "id": "Mpl4aVNXMukq"
      },
      "execution_count": null,
      "outputs": []
    },
    {
      "cell_type": "code",
      "source": [
        "fs.band_to_signal(df, buy='A', sell='B')"
      ],
      "metadata": {
        "id": "bsiJf6ECM2SS"
      },
      "execution_count": null,
      "outputs": []
    },
    {
      "cell_type": "code",
      "source": [
        "fs.position(df)\n",
        "fs.evaluate(df, cost=.001)\n",
        "fs.performance(df, rf_rate = 0.01)\n",
        "fs.draw_trade_results(df)"
      ],
      "metadata": {
        "id": "3AsqAeAsM6Z1"
      },
      "execution_count": null,
      "outputs": []
    },
    {
      "cell_type": "code",
      "source": [
        "fs.band_to_signal(df, buy='D', sell='B')\n",
        "fs.position(df)\n",
        "fs.evaluate(df, cost=.001)\n",
        "fs.performance(df, rf_rate = 0.01)\n",
        "fs.draw_trade_results(df)"
      ],
      "metadata": {
        "id": "UfE9NX3IM_Un"
      },
      "execution_count": null,
      "outputs": []
    },
    {
      "cell_type": "markdown",
      "source": [
        "# 볼린저 밴드"
      ],
      "metadata": {
        "id": "SK2RLcSPNJut"
      }
    },
    {
      "cell_type": "markdown",
      "source": [
        "- Bollinger Band\n",
        "- 이동평균에 변동성을 결합한 그래프"
      ],
      "metadata": {
        "id": "8fS5PFW4PUQf"
      }
    },
    {
      "cell_type": "code",
      "source": [
        "symbol = 'TSM'\n",
        "df = fs.get_price(symbol, start_date = '2023-01-01', end_date='2024-04-09')\n",
        "fs.draw_chart(df, right=symbol)"
      ],
      "metadata": {
        "id": "QlxIF_zsNQFd"
      },
      "execution_count": null,
      "outputs": []
    },
    {
      "cell_type": "code",
      "source": [
        "fs.bollinger(df, w=20, k=2)\n",
        "df.tail()"
      ],
      "metadata": {
        "id": "r6DWexpfNTgy"
      },
      "execution_count": null,
      "outputs": []
    },
    {
      "cell_type": "code",
      "source": [
        "fs.draw_band_chart(df)"
      ],
      "metadata": {
        "id": "lB4Y_hfSNZFD"
      },
      "execution_count": null,
      "outputs": []
    },
    {
      "cell_type": "code",
      "source": [
        "fs.band_to_signal(df, buy='A', sell='B')\n",
        "fs.position(df)\n",
        "fs.evaluate(df, cost=.001)\n",
        "fs.performance(df, rf_rate = 0.01)\n",
        "fs.draw_trade_results(df)"
      ],
      "metadata": {
        "id": "Znlt6phYNenF"
      },
      "execution_count": null,
      "outputs": []
    },
    {
      "cell_type": "code",
      "source": [
        "fs.band_to_signal(df, buy='D', sell='B')\n",
        "fs.position(df)\n",
        "fs.evaluate(df, cost=.001)\n",
        "fs.performance(df, rf_rate = 0.01)\n",
        "fs.draw_trade_results(df)"
      ],
      "metadata": {
        "id": "OW8v0yuwNFE2"
      },
      "execution_count": null,
      "outputs": []
    },
    {
      "cell_type": "code",
      "source": [
        "df = fs.get_price(symbol, start_date = '2023-01-01', end_date='2024-04-09')\n",
        "fs.bollinger(df, w=20, k=1)\n",
        "fs.draw_chart(df, right=symbol)"
      ],
      "metadata": {
        "id": "7xJ3QpAxNcrp"
      },
      "execution_count": null,
      "outputs": []
    },
    {
      "cell_type": "code",
      "source": [
        "fs.band_to_signal(df, buy='A', sell='B')\n",
        "fs.position(df)\n",
        "fs.evaluate(df, cost=.001)\n",
        "fs.performance(df, rf_rate = 0.01)\n",
        "fs.draw_trade_results(df)"
      ],
      "metadata": {
        "id": "dsugvnk_Nvb5"
      },
      "execution_count": null,
      "outputs": []
    },
    {
      "cell_type": "code",
      "source": [
        "fs.band_to_signal(df, buy='D', sell='B')\n",
        "fs.position(df)\n",
        "fs.evaluate(df, cost=.001)\n",
        "fs.performance(df, rf_rate = 0.01)\n",
        "fs.draw_trade_results(df)"
      ],
      "metadata": {
        "id": "-MF3IL3lN7Zy"
      },
      "execution_count": null,
      "outputs": []
    },
    {
      "cell_type": "markdown",
      "source": [
        "100p"
      ],
      "metadata": {
        "id": "7TzO3K81OHau"
      }
    },
    {
      "cell_type": "markdown",
      "source": [
        "# 스토캐스틱"
      ],
      "metadata": {
        "id": "Z_tDhFqsOJ7X"
      }
    },
    {
      "cell_type": "markdown",
      "source": [
        "- Stochastic\n",
        "- 최근 N일간 주가 범위 중 현재 주가가 얼마나 높이 있는가"
      ],
      "metadata": {
        "id": "hDB3ZDagPhZ5"
      }
    },
    {
      "cell_type": "code",
      "source": [],
      "metadata": {
        "id": "wWoNq5msN_2-"
      },
      "execution_count": null,
      "outputs": []
    }
  ]
}
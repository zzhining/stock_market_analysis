{
  "nbformat": 4,
  "nbformat_minor": 0,
  "metadata": {
    "colab": {
      "private_outputs": true,
      "provenance": [],
      "toc_visible": true,
      "authorship_tag": "ABX9TyMRUIt5RVCYvZgnmKnvQ5an",
      "include_colab_link": true
    },
    "kernelspec": {
      "name": "python3",
      "display_name": "Python 3"
    },
    "language_info": {
      "name": "python"
    }
  },
  "cells": [
    {
      "cell_type": "markdown",
      "metadata": {
        "id": "view-in-github",
        "colab_type": "text"
      },
      "source": [
        "<a href=\"https://colab.research.google.com/github/zzhining/stock_market_analysis/blob/main/22_short_term_trading_algorithm.ipynb\" target=\"_parent\"><img src=\"https://colab.research.google.com/assets/colab-badge.svg\" alt=\"Open In Colab\"/></a>"
      ]
    },
    {
      "cell_type": "markdown",
      "source": [
        "# 단기 투자 전략\n",
        "\n",
        "- 방법 1 : 모멘텀 전략\n",
        "    - 상승세에 올라탄 주식을 사서 더 오르길 기대하는 전략\n",
        "    - MACD 전략\n",
        "\n",
        "- 방법 2 : 평균회귀 전략\n",
        "    - 원래 수준보다 많이 하락한 종목을 사서 원래대로 회복하길 기다리는 평균 회귀 전략\n",
        "    - 매수와 매도 시그널이 존재함\n",
        "    - 주가의 움직임이 박스권을 형성하고 있는 종목에 적합"
      ],
      "metadata": {
        "id": "qXJFHI2VlmGx"
      }
    },
    {
      "cell_type": "code",
      "execution_count": null,
      "metadata": {
        "id": "ng4WQ9hEKECN"
      },
      "outputs": [],
      "source": [
        "!pip install finterstellar"
      ]
    },
    {
      "cell_type": "code",
      "source": [
        "import finterstellar as fs"
      ],
      "metadata": {
        "id": "30l90tKkKGi8"
      },
      "execution_count": null,
      "outputs": []
    },
    {
      "cell_type": "markdown",
      "source": [
        "# MACD"
      ],
      "metadata": {
        "id": "4nOQmDepOcYX"
      }
    },
    {
      "cell_type": "markdown",
      "source": [
        "## 개념\n",
        "- Moving Average Convergence Divergence\n",
        "- 이동평균수렴확산지수\n",
        "\n",
        "---\n",
        "- MA(단순이동평균)\n",
        "- EMA(지수이동평균)\n",
        "    - 최근 값에 더 높은 가중치를 주고 계산한 평균값\n",
        "- MACD\n",
        "    - 단기 평균에서 장기 평균을 빼준 값\n",
        "    - MACD가 양수면, 주가가 상승 추세임\n",
        "- MACD signal\n",
        "    - MACD의 후행성을 극복하기 위해 만든 선\n",
        "    - 9일간 MACD 지수 이동 평균선\n",
        "- MACD Oscillator\n",
        "    - MACD를 더 쉽게 이해하기 위한 보조지표\n",
        "    - MACD에서 MACD signal값을 빼 히스토그램 형식으로 표현\n",
        "    - 0 이상인 경우 매수추천(by 제럴드 아펠)\n",
        "    "
      ],
      "metadata": {
        "id": "_RgRlBj4Ojsr"
      }
    },
    {
      "cell_type": "markdown",
      "source": [
        "## 투자전략\n",
        "- 1) MACD가 플러스이면 매수, 마이너스이면 매도하는 전략\n",
        "- 2) MACD Oscillator가 플러스이면 매수, 마이너스이면 매도하는 전략"
      ],
      "metadata": {
        "id": "O_JHynPLhx4T"
      }
    },
    {
      "cell_type": "code",
      "source": [
        "symbol = 'MSFT'\n",
        "df = fs.get_price(symbol, start_date = '2023-01-01', end_date = '2024-04-09')\n",
        "fs.draw_chart(df, right=symbol)"
      ],
      "metadata": {
        "id": "f26hafMuKIdW"
      },
      "execution_count": null,
      "outputs": []
    },
    {
      "cell_type": "code",
      "source": [
        "fs.macd(df)"
      ],
      "metadata": {
        "id": "IAalKmibKZ9a"
      },
      "execution_count": null,
      "outputs": []
    },
    {
      "cell_type": "code",
      "source": [
        "fs.draw_chart(df, right=['macd', 'macd_signal', 'macd_oscillator'])"
      ],
      "metadata": {
        "id": "qaj40E9qKfwt"
      },
      "execution_count": null,
      "outputs": []
    },
    {
      "cell_type": "code",
      "source": [
        "# macd_oscillator가 0이상인 경우 매수하는 시그널 생성\n",
        "fs.indicator_to_signal(df, factor='macd_oscillator', buy=0, sell=0)"
      ],
      "metadata": {
        "id": "TKfIWw5CKpiE"
      },
      "execution_count": null,
      "outputs": []
    },
    {
      "cell_type": "code",
      "source": [
        "fs.position(df)\n",
        "fs.draw_chart(df, right='position_chart', left='macd_oscillator')"
      ],
      "metadata": {
        "id": "amLXjErEK3H7"
      },
      "execution_count": null,
      "outputs": []
    },
    {
      "cell_type": "code",
      "source": [
        "fs.evaluate(df, cost=.001)\n",
        "fs.performance(df, rf_rate = 0.01)\n",
        "fs.draw_trade_results(df)"
      ],
      "metadata": {
        "id": "sas-qpo1LB0Z"
      },
      "execution_count": null,
      "outputs": []
    },
    {
      "cell_type": "markdown",
      "source": [
        "### (참고) macd()"
      ],
      "metadata": {
        "id": "2kDm6wHfkRL5"
      }
    },
    {
      "cell_type": "code",
      "source": [
        "def macd(df, short=12, long=26, signal=9):\n",
        "    '''\n",
        "    Calculate MACD indicators\n",
        "    :param df: Dataframe containing historical prices\n",
        "    :param short: Day length of short term MACD\n",
        "    :param long: Day length of long term MACD\n",
        "    :param signal: Day length of MACD signal\n",
        "    :return: Dataframe of MACD values\n",
        "    '''\n",
        "    symbol = df.columns[0]\n",
        "    df['ema_short'] = df[symbol].ewm(span=short).mean()\n",
        "    df['ema_long'] = df[symbol].ewm(span=long).mean()\n",
        "    df['macd'] = (df['ema_short'] - df['ema_long']).round(2)\n",
        "    df['macd_signal'] = df['macd'].ewm(span=signal).mean().round(2)\n",
        "    df['macd_oscillator'] = (df['macd'] - df['macd_signal']).round(2)\n",
        "    return df[[symbol, 'macd','macd_signal','macd_oscillator']]"
      ],
      "metadata": {
        "id": "oX9QbhaDkIVI"
      },
      "execution_count": null,
      "outputs": []
    },
    {
      "cell_type": "markdown",
      "source": [
        "# RSI"
      ],
      "metadata": {
        "id": "2pcVI46xL3IB"
      }
    },
    {
      "cell_type": "markdown",
      "source": [
        "## 개념\n",
        "- Relative Strength Index, [[지표설명](https://www.investopedia.com/terms/r/rsi.asp)]\n",
        "- 상대강도지수\n"
      ],
      "metadata": {
        "id": "wwQ__PQJOyH_"
      }
    },
    {
      "cell_type": "markdown",
      "source": [
        "## 투자 전략\n",
        "- RSI가 70 이상이면 과매수(over bought)\n",
        "    - 주식을 너무 많이 사서 주가가 과열되어 있음\n",
        "- RSI가 30이하이면 과매도(over sold)\n",
        "- 웰리스 와일더 전략\n",
        "    - 과매도 구간에 주식을 사고, 과매수 구간에서 주식을 파는 전략\n",
        "    - RSI를 구하는 기간은 14일을 기본으로 제시\n",
        "- 모멘텀 전략\n",
        "    - 과매수 구간에 주식을 사고, 과매도 구간에 주식을 파는 전략"
      ],
      "metadata": {
        "id": "mM8cxXzemZ_F"
      }
    },
    {
      "cell_type": "code",
      "source": [
        "symbol = 'VZ'\n",
        "df = fs.get_price(symbol, start_date = '2023-01-01', end_date='2024-04-09')\n",
        "fs.draw_chart(df, right=symbol)"
      ],
      "metadata": {
        "id": "sMc-Q0d9LP7r"
      },
      "execution_count": null,
      "outputs": []
    },
    {
      "cell_type": "code",
      "source": [
        "fs.rsi(df, w=14)\n",
        "fs.draw_chart(df, left='rsi', right=symbol)"
      ],
      "metadata": {
        "id": "fvtS6HjsMErs"
      },
      "execution_count": null,
      "outputs": []
    },
    {
      "cell_type": "code",
      "source": [
        "fs.indicator_to_signal(df, factor='rsi', buy=30, sell=70)\n",
        "fs.position(df)\n",
        "fs.evaluate(df, cost=.001)\n",
        "fs.performance(df, rf_rate = 0.01)\n",
        "fs.draw_trade_results(df)"
      ],
      "metadata": {
        "id": "Rij7H3EgMLwY"
      },
      "execution_count": null,
      "outputs": []
    },
    {
      "cell_type": "code",
      "source": [
        "fs.indicator_to_signal(df, factor='rsi', buy=70, sell=50)\n",
        "fs.position(df)\n",
        "fs.evaluate(df, cost=.001)\n",
        "fs.performance(df, rf_rate = 0.01)\n",
        "fs.draw_trade_results(df)"
      ],
      "metadata": {
        "id": "nwr6q4GeMYFf"
      },
      "execution_count": null,
      "outputs": []
    },
    {
      "cell_type": "markdown",
      "source": [
        "### (참고) rsi()"
      ],
      "metadata": {
        "id": "I58zFWCrnWtS"
      }
    },
    {
      "cell_type": "code",
      "source": [
        "def rsi(df, w=14):\n",
        "    '''\n",
        "    Calculate RSI indicator\n",
        "    :param df: Dataframe containing historical prices\n",
        "    :param w: Window size\n",
        "    :return: Series of RSI values\n",
        "    '''\n",
        "    pd.options.mode.chained_assignment = None\n",
        "    symbol = df.columns[0]\n",
        "    df.fillna(method='ffill', inplace=True)  # 들어온 데이터의 구멍을 메꿔준다\n",
        "    if len(df) > w:\n",
        "        df['diff'] = df.iloc[:,0].diff()   # 일별 가격차이 계산\n",
        "        df['au'] = df['diff'].where(df['diff']>0, 0).rolling(w).mean()\n",
        "        df['ad'] = df['diff'].where(df['diff']<0, 0).rolling(w).mean().abs()\n",
        "        for r in range(w+1, len(df)):\n",
        "            df['au'][r] = ( df['au'][r-1]*(w-1) + df['diff'].where(df['diff']>0,0)[r] ) / w\n",
        "            df['ad'][r] = ( df['ad'][r-1]*(w-1) + df['diff'].where(df['diff']<0,0).abs()[r] ) / w\n",
        "        df['rsi'] = (df['au'] / (df['au'] + df['ad']) * 100).round(2)\n",
        "        return df[[symbol, 'rsi']]\n",
        "    else:\n",
        "        return None"
      ],
      "metadata": {
        "id": "nOQGun-WnQfe"
      },
      "execution_count": null,
      "outputs": []
    },
    {
      "cell_type": "markdown",
      "source": [
        "# 엔벨로프\n"
      ],
      "metadata": {
        "id": "8UAz1xjMMp6s"
      }
    },
    {
      "cell_type": "markdown",
      "source": [
        "## 개념\n",
        "- envelope(주가를 봉투처럼 감싼다)\n",
        "- 이동평균을 이용한 지표: 이동평균보다 +/-5% 가격을 기준으로 envelope 생성\n",
        "- 현재 가격이 이동평균 가격보다 얼마나 많이 떨어져 있는지 한 눈에 알아보기 쉬움\n"
      ],
      "metadata": {
        "id": "89ST0FMUnyJW"
      }
    },
    {
      "cell_type": "markdown",
      "source": [
        "## 투자전략\n",
        "- 차트상에서 현재 가격이 그래프의 어느 영역에 있는지를 확인\n",
        "    - A구역: 밴드 상단보다 위 구간\n",
        "    - B구역: 밴드 중심과 상단 사이\n",
        "    - C구역: 밴드 하단과 중심 사이\n",
        "    - D구역: 밴드 하단 아래 구간\n",
        "\n",
        "- 모멘텀투자자 or 성장주\n",
        "    - A구역: 매수, B구역: 매도\n",
        "- 평균회귀투자자 or 박스권\n",
        "    - D구역: 매수, B구역: 매도"
      ],
      "metadata": {
        "id": "Zjl5MDiaoLdQ"
      }
    },
    {
      "cell_type": "code",
      "source": [
        "symbol = 'BA'\n",
        "df = fs.get_price(symbol, start_date = '2023-01-01', end_date='2024-04-09')\n",
        "fs.draw_chart(df, right=symbol)"
      ],
      "metadata": {
        "id": "6_igXzmOMe9C"
      },
      "execution_count": null,
      "outputs": []
    },
    {
      "cell_type": "code",
      "source": [
        "fs.envelope(df, w=20, spread=.1)\n",
        "df.tail()"
      ],
      "metadata": {
        "id": "Mpl4aVNXMukq"
      },
      "execution_count": null,
      "outputs": []
    },
    {
      "cell_type": "code",
      "source": [
        "fs.band_to_signal(df, buy='A', sell='B')"
      ],
      "metadata": {
        "id": "bsiJf6ECM2SS"
      },
      "execution_count": null,
      "outputs": []
    },
    {
      "cell_type": "code",
      "source": [
        "fs.position(df)\n",
        "fs.evaluate(df, cost=.001)\n",
        "fs.performance(df, rf_rate = 0.01)\n",
        "fs.draw_trade_results(df)"
      ],
      "metadata": {
        "id": "3AsqAeAsM6Z1"
      },
      "execution_count": null,
      "outputs": []
    },
    {
      "cell_type": "code",
      "source": [
        "fs.band_to_signal(df, buy='D', sell='B')\n",
        "fs.position(df)\n",
        "fs.evaluate(df, cost=.001)\n",
        "fs.performance(df, rf_rate = 0.01)\n",
        "fs.draw_trade_results(df)"
      ],
      "metadata": {
        "id": "UfE9NX3IM_Un"
      },
      "execution_count": null,
      "outputs": []
    },
    {
      "cell_type": "markdown",
      "source": [
        "###(참고) envelope()"
      ],
      "metadata": {
        "id": "TaoRc3m7pBYT"
      }
    },
    {
      "cell_type": "code",
      "source": [
        "def envelope(df, w=50, spread=.05):\n",
        "    '''\n",
        "    Calculate Envelope indicators\n",
        "    :param df: Dataframe containing historical prices\n",
        "    :param w: Window size\n",
        "    :param spread: % difference from center line to determine band width\n",
        "    :return: Dataframe of Envelope values\n",
        "    '''\n",
        "    symbol = df.columns[0]\n",
        "    df['center'] = df[symbol].rolling(w).mean()\n",
        "    df['ub'] = df['center']*(1+spread)\n",
        "    df['lb'] = df['center']*(1-spread)\n",
        "    return df[[symbol, 'center','ub','lb']]"
      ],
      "metadata": {
        "id": "vBbP56Wko0qN"
      },
      "execution_count": null,
      "outputs": []
    },
    {
      "cell_type": "markdown",
      "source": [
        "# 볼린저 밴드"
      ],
      "metadata": {
        "id": "SK2RLcSPNJut"
      }
    },
    {
      "cell_type": "markdown",
      "source": [
        "## 개념\n",
        "- [Bollinger Band](https://namu.wiki/w/%EB%B3%BC%EB%A6%B0%EC%A0%80%20%EB%B0%B4%EB%93%9C)\n",
        "- 이동평균에 변동성을 결합한 그래프"
      ],
      "metadata": {
        "id": "8fS5PFW4PUQf"
      }
    },
    {
      "cell_type": "markdown",
      "source": [
        "## 투자 전략\n",
        "- 모멘트 전략\n",
        "    - 밴드 상단 매매\n",
        "- 평균회귀 전략\n",
        "    - 밴드 하단 매매\n",
        "\n",
        "- '볼린저밴드 투자기법(존 볼린저)'\n",
        "    - 볼린저밴드를 모멘텀 전략으로 이용하는 것을 권장\n",
        "    - 주가가 상승할 때는 밴드의 상단을 타고 올라가고, 주가가 하락할 때는 하단 밴드를 타고 떨어짐\n",
        "\n",
        "- 인기 지표\n",
        "    - 기본 세팅 `BB(20, 2)`을 투자 시그널로 이용하는 사람이 너무 많아 투자 기회가 많지 않으므로 다양한 세팅으로 백테스팅 해보는 것이 필요함"
      ],
      "metadata": {
        "id": "HcNPCJior-VQ"
      }
    },
    {
      "cell_type": "code",
      "source": [
        "symbol = 'TSM'\n",
        "df = fs.get_price(symbol, start_date = '2020-01-01', end_date='2024-04-09')\n",
        "fs.draw_chart(df, right=symbol)"
      ],
      "metadata": {
        "id": "QlxIF_zsNQFd"
      },
      "execution_count": null,
      "outputs": []
    },
    {
      "cell_type": "code",
      "source": [
        "fs.bollinger(df, w=20, k=2)\n",
        "df.tail()"
      ],
      "metadata": {
        "id": "r6DWexpfNTgy"
      },
      "execution_count": null,
      "outputs": []
    },
    {
      "cell_type": "code",
      "source": [
        "fs.draw_band_chart(df)"
      ],
      "metadata": {
        "id": "lB4Y_hfSNZFD"
      },
      "execution_count": null,
      "outputs": []
    },
    {
      "cell_type": "code",
      "source": [
        "fs.band_to_signal(df, buy='A', sell='B')\n",
        "fs.position(df)\n",
        "fs.evaluate(df, cost=.001)\n",
        "fs.performance(df, rf_rate = 0.01)\n",
        "fs.draw_trade_results(df)"
      ],
      "metadata": {
        "id": "Znlt6phYNenF"
      },
      "execution_count": null,
      "outputs": []
    },
    {
      "cell_type": "code",
      "source": [
        "fs.band_to_signal(df, buy='D', sell='B')\n",
        "fs.position(df)\n",
        "fs.evaluate(df, cost=.001)\n",
        "fs.performance(df, rf_rate = 0.01)\n",
        "fs.draw_trade_results(df)"
      ],
      "metadata": {
        "id": "OW8v0yuwNFE2"
      },
      "execution_count": null,
      "outputs": []
    },
    {
      "cell_type": "code",
      "source": [
        "df = fs.get_price(symbol, start_date = '2023-01-01', end_date='2024-04-09')\n",
        "fs.bollinger(df, w=20, k=1)\n",
        "fs.draw_chart(df, right=symbol)"
      ],
      "metadata": {
        "id": "7xJ3QpAxNcrp"
      },
      "execution_count": null,
      "outputs": []
    },
    {
      "cell_type": "code",
      "source": [
        "fs.band_to_signal(df, buy='A', sell='B')\n",
        "fs.position(df)\n",
        "fs.evaluate(df, cost=.001)\n",
        "fs.performance(df, rf_rate = 0.01)\n",
        "fs.draw_trade_results(df)"
      ],
      "metadata": {
        "id": "dsugvnk_Nvb5"
      },
      "execution_count": null,
      "outputs": []
    },
    {
      "cell_type": "code",
      "source": [
        "fs.band_to_signal(df, buy='D', sell='B')\n",
        "fs.position(df)\n",
        "fs.evaluate(df, cost=.001)\n",
        "fs.performance(df, rf_rate = 0.01)\n",
        "fs.draw_trade_results(df)"
      ],
      "metadata": {
        "id": "-MF3IL3lN7Zy"
      },
      "execution_count": null,
      "outputs": []
    },
    {
      "cell_type": "markdown",
      "source": [
        "## 합성 시그널 생성\n",
        "- 모멘텀 시그널 OR 평균회귀 시그널"
      ],
      "metadata": {
        "id": "7TzO3K81OHau"
      }
    },
    {
      "cell_type": "code",
      "source": [
        "df = fs.get_price(symbol, start_date='2020-01-01', end_date='2024-04-09')\n",
        "df = fs.bollinger(df, w=20, k=1)\n",
        "#모멘텀 시그널\n",
        "df['s1'] = fs.band_to_signal(df, buy='A', sell='B')\n",
        "#평균회귀 시그널\n",
        "df['s2'] = fs.band_to_signal(df, buy='D', sell='B')\n",
        "\n",
        "# 시그널 조합\n",
        "fs.combine_signal_or(df, 's1', 's2')"
      ],
      "metadata": {
        "id": "w_gBZQlmtjaQ"
      },
      "execution_count": null,
      "outputs": []
    },
    {
      "cell_type": "code",
      "source": [
        "fs.position(df)\n",
        "fs.evaluate(df, cost=.001)\n",
        "fs.performance(df, rf_rate = 0.01)\n",
        "fs.draw_trade_results(df)"
      ],
      "metadata": {
        "id": "VDE-x229uIAP"
      },
      "execution_count": null,
      "outputs": []
    },
    {
      "cell_type": "markdown",
      "source": [
        "### (참고) bollinger"
      ],
      "metadata": {
        "id": "tVazgzPauVb1"
      }
    },
    {
      "cell_type": "code",
      "source": [
        "def bollinger(df, w=20, k=2):\n",
        "    '''\n",
        "    Calculate bollinger band indicators\n",
        "    :param df: Dataframe containing historical prices\n",
        "    :param w: Window size\n",
        "    :param k: Multiplier to determine band width\n",
        "    :return: Dataframe of bollinger band values\n",
        "    '''\n",
        "    symbol = df.columns[0]\n",
        "    df['center'] = df[symbol].rolling(w).mean()\n",
        "    df['sigma'] = df[symbol].rolling(w).std()\n",
        "    df['ub'] = df['center'] + k * df['sigma']\n",
        "    df['lb'] = df['center'] - k * df['sigma']\n",
        "    return df[[symbol, 'center','ub','lb']]"
      ],
      "metadata": {
        "id": "hIWOoXiFuVFa"
      },
      "execution_count": null,
      "outputs": []
    },
    {
      "cell_type": "markdown",
      "source": [
        "# 스토캐스틱"
      ],
      "metadata": {
        "id": "Z_tDhFqsOJ7X"
      }
    },
    {
      "cell_type": "markdown",
      "source": [
        "## 개념"
      ],
      "metadata": {
        "id": "Fc1Xt_Z4uimZ"
      }
    },
    {
      "cell_type": "markdown",
      "source": [
        "- Stochastic\n",
        "- 최근 N일간 주가 범위 중 현재 주가가 얼마나 높이 있는가"
      ],
      "metadata": {
        "id": "hDB3ZDagPhZ5"
      }
    },
    {
      "cell_type": "markdown",
      "source": [
        "## 투자전략\n",
        "- 평균회귀 전략\n",
        "    - slow k < 20: 과매도 구간, slow k > 80: 과매수 구간\n",
        "    - 20보다 낮을 때 사고, 80보다 높을 때 팔아라\n",
        "- 모멘텀 전략\n",
        "    - (slow k - slow d) > 0 : 상승추세 --> 매수\n",
        "    - (slow k - slow d) < 0 : 하락추세 --> 매도"
      ],
      "metadata": {
        "id": "eLaeP-RcuoEK"
      }
    },
    {
      "cell_type": "code",
      "source": [
        "symbol = 'DAL'\n",
        "df = fs.get_ohlc(symbol, start_date = '2020-01-01', end_date = '2024-04-09')\n",
        "df.tail()"
      ],
      "metadata": {
        "id": "0Vx7kHsaulvG"
      },
      "execution_count": null,
      "outputs": []
    },
    {
      "cell_type": "code",
      "source": [
        "fs.stochastic(df, symbol, n=14, m=3, t=3)"
      ],
      "metadata": {
        "id": "yAN7tJU7vUaU"
      },
      "execution_count": null,
      "outputs": []
    },
    {
      "cell_type": "code",
      "source": [
        "fs.draw_chart(df, left='slow_k', right=symbol)"
      ],
      "metadata": {
        "id": "MJ-ezd94vdMS"
      },
      "execution_count": null,
      "outputs": []
    },
    {
      "cell_type": "code",
      "source": [
        "# slow_k가 20보다 낮아지면 매수, 80보다 커지면 매도\n",
        "fs.indicator_to_signal(df, factor='slow_k', buy=20, sell=80)\n",
        "fs.position(df)\n",
        "fs.evaluate(df, cost=.001)\n",
        "fs.performance(df, rf_rate = 0.01)\n",
        "fs.draw_trade_results(df)"
      ],
      "metadata": {
        "id": "Z4vQmkC8vhZ2"
      },
      "execution_count": null,
      "outputs": []
    },
    {
      "cell_type": "markdown",
      "source": [
        "### 모멘텀 전략"
      ],
      "metadata": {
        "id": "Pm-wHaf-v9Ah"
      }
    },
    {
      "cell_type": "code",
      "source": [
        "df = fs.get_ohlc(symbol, start_date = '2020-01-01', end_date = '2024-04-09')\n",
        "fs.stochastic(df, symbol, n=14, m=3, t=3)\n",
        "df['indicator'] = df['slow_k'] - df['slow_d']"
      ],
      "metadata": {
        "id": "DhvLey51vrhg"
      },
      "execution_count": null,
      "outputs": []
    },
    {
      "cell_type": "code",
      "source": [
        "df.tail()"
      ],
      "metadata": {
        "id": "HWRE7BS-wCQA"
      },
      "execution_count": null,
      "outputs": []
    },
    {
      "cell_type": "code",
      "source": [
        "fs.indicator_to_signal(df, factor='indicator', buy=0, sell=0)\n",
        "fs.position(df)\n",
        "fs.evaluate(df, cost=.001)\n",
        "fs.performance(df, rf_rate = 0.01)\n",
        "fs.draw_trade_results(df)"
      ],
      "metadata": {
        "id": "lV70ET_Sv_bu"
      },
      "execution_count": null,
      "outputs": []
    },
    {
      "cell_type": "markdown",
      "source": [
        "### (참고) stochastic()"
      ],
      "metadata": {
        "id": "CNVOS0sgwfuJ"
      }
    },
    {
      "cell_type": "code",
      "source": [
        "def stochastic(df, symbol, n=14, m=3, t=3):\n",
        "    '''\n",
        "    Calculate stochastic indicators\n",
        "    :param df: Dataframe containing historical prices\n",
        "    :param symbol: Symbol or ticker of equity by finance.yahoo.com\n",
        "    :param n: Day length of fast k stochastic\n",
        "    :param m: Day length of slow k stochastic\n",
        "    :param t: Day length of slow d stochastic\n",
        "    :return: Dataframe of stochastic values\n",
        "    '''\n",
        "    try:\n",
        "        df['fast_k'] = ( ( df['Close'] - df['Low'].rolling(n).min() ) / ( df['High'].rolling(n).max() - df['Low'].rolling(n).min() ) ).round(4) * 100\n",
        "        df['slow_k'] = df['fast_k'].rolling(m).mean().round(2)\n",
        "        df['slow_d'] = df['slow_k'].rolling(t).mean().round(2)\n",
        "        df.rename(columns={'Close':symbol}, inplace=True)\n",
        "        df.drop(columns=['High','Open','Low','Volume','Adj Close','fast_k'], inplace=True)\n",
        "        return df[[symbol, 'slow_k', 'slow_d']]\n",
        "    except:\n",
        "        return 'Error. The stochastic indicator requires OHLC data and symbol. Try get_ohlc() to retrieve price data.'\n"
      ],
      "metadata": {
        "id": "izKEVjnTwHF-"
      },
      "execution_count": null,
      "outputs": []
    },
    {
      "cell_type": "code",
      "source": [],
      "metadata": {
        "id": "z4b-vq4xwcr2"
      },
      "execution_count": null,
      "outputs": []
    }
  ]
}
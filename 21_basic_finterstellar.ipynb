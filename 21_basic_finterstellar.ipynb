{
  "nbformat": 4,
  "nbformat_minor": 0,
  "metadata": {
    "colab": {
      "private_outputs": true,
      "provenance": [],
      "toc_visible": true,
      "authorship_tag": "ABX9TyOXt39Jcl280Jwb5suiqbJR",
      "include_colab_link": true
    },
    "kernelspec": {
      "name": "python3",
      "display_name": "Python 3"
    },
    "language_info": {
      "name": "python"
    }
  },
  "cells": [
    {
      "cell_type": "markdown",
      "metadata": {
        "id": "view-in-github",
        "colab_type": "text"
      },
      "source": [
        "<a href=\"https://colab.research.google.com/github/zzhining/stock_market_analysis/blob/main/21_basic_finterstellar.ipynb\" target=\"_parent\"><img src=\"https://colab.research.google.com/assets/colab-badge.svg\" alt=\"Open In Colab\"/></a>"
      ]
    },
    {
      "cell_type": "code",
      "execution_count": null,
      "metadata": {
        "id": "9_Pc83ac3rf9"
      },
      "outputs": [],
      "source": [
        "!pip install finterstellar"
      ]
    },
    {
      "cell_type": "code",
      "source": [
        "import finterstellar as fs"
      ],
      "metadata": {
        "id": "60Wy13Kh3vVY"
      },
      "execution_count": null,
      "outputs": []
    },
    {
      "cell_type": "markdown",
      "source": [
        "# 주가 가져오기\n",
        "\n",
        "`get_price()`"
      ],
      "metadata": {
        "id": "NDeHiuXn3__z"
      }
    },
    {
      "cell_type": "code",
      "source": [
        "df = fs.get_price('AAPL', start_date = '2023-01-01', end_date = '2024-04-09')\n",
        "df.head()"
      ],
      "metadata": {
        "id": "EGbAVCza37ks"
      },
      "execution_count": null,
      "outputs": []
    },
    {
      "cell_type": "markdown",
      "source": [
        "# 차트 그리기\n",
        "\n",
        "`draw_chart()`"
      ],
      "metadata": {
        "id": "lgIv9rI54VqY"
      }
    },
    {
      "cell_type": "code",
      "source": [
        "fs.draw_chart(df, right = 'AAPL')"
      ],
      "metadata": {
        "id": "qNX5HaCj4PRk"
      },
      "execution_count": null,
      "outputs": []
    },
    {
      "cell_type": "markdown",
      "source": [
        "# RSI\n",
        "\n",
        "`rsi()`\n",
        "- RSI: 주가의 강도를 표시하는 지표"
      ],
      "metadata": {
        "id": "qEam_Zn95VyL"
      }
    },
    {
      "cell_type": "code",
      "source": [
        "# w = 14 : 국내 증권사 HTS가 기본값으로 채택한 값\n",
        "# 일봉 기준 14일간의 주가의 상대적 세기를 표현(윌레스 와일더가 권장한 값)\n",
        "fs.rsi(df, w=14)\n",
        "fs.draw_chart(df, left = 'rsi', right='AAPL')"
      ],
      "metadata": {
        "id": "JMhjt-q04RIA"
      },
      "execution_count": null,
      "outputs": []
    },
    {
      "cell_type": "markdown",
      "source": [
        "# 백테스팅"
      ],
      "metadata": {
        "id": "2FZCug1Z6D_i"
      }
    },
    {
      "cell_type": "markdown",
      "source": [
        "- 투자의 원칙: 싸게 사서 비싸게 파는 것\n",
        "- BLASH(Buy Low And Sell High)\n",
        "- 주가 강도가 약할 때 사고, 주가 강도가 강할 때 팔아야함\n",
        "\n",
        "`indicator_to_signal()`\n",
        "- buy: 매수 상태\n",
        "- sell: 공매도 상태\n",
        "- zero: 아무것도 아님"
      ],
      "metadata": {
        "id": "Npk8UaFu6Qjx"
      }
    },
    {
      "cell_type": "code",
      "source": [
        "# RSI가 40이하일 경우 매수하고, 60이상일 경우에 매도하는 전략\n",
        "fs.indicator_to_signal(df, factor='rsi', buy = 40, sell = 60)"
      ],
      "metadata": {
        "id": "5pifjyGt5iEQ"
      },
      "execution_count": null,
      "outputs": []
    },
    {
      "cell_type": "markdown",
      "source": [
        "# 포지션 산출\n",
        "- 주식 보유 현황 산출\n",
        "- `position()`"
      ],
      "metadata": {
        "id": "BDhTHOTx68PF"
      }
    },
    {
      "cell_type": "code",
      "source": [
        "fs.position(df)\n",
        "fs.draw_chart(df, left='rsi', right='position_chart')"
      ],
      "metadata": {
        "id": "KbUBXxWs6O8i"
      },
      "execution_count": null,
      "outputs": []
    },
    {
      "cell_type": "markdown",
      "source": [
        "# 수익률\n",
        "`evaluate()`"
      ],
      "metadata": {
        "id": "4LXItrZH7gU_"
      }
    },
    {
      "cell_type": "code",
      "source": [
        "# 수익률 계산\n",
        "fs.evaluate(df, cost = .001)\n",
        "\n",
        "# 수익률 변동 차트\n",
        "fs.draw_chart(df, left='acc_rtn_dp', right='AAPL')"
      ],
      "metadata": {
        "id": "rKlSt2Kr7Lpv"
      },
      "execution_count": null,
      "outputs": []
    },
    {
      "cell_type": "markdown",
      "source": [
        "# 투자 성과 분석"
      ],
      "metadata": {
        "id": "B0iBzqb07_7U"
      }
    },
    {
      "cell_type": "markdown",
      "source": [
        "`performance()`\n",
        "- rf_rate: 무위험이자율\n",
        "    - 위험이 전혀 없는 순수한 투자의 기대 수익률\n",
        "    - 정기 예금, 국채 등의 이자율에 해당함\n",
        "    - 샤프비율을 구하기 위해 필요한 지표임\n",
        "    "
      ],
      "metadata": {
        "id": "pSkZnhho8PsF"
      }
    },
    {
      "cell_type": "code",
      "source": [
        "fs.performance(df, rf_rate=0.01)"
      ],
      "metadata": {
        "id": "H_aCrsuf7v4V"
      },
      "execution_count": null,
      "outputs": []
    },
    {
      "cell_type": "markdown",
      "source": [
        "## CAGR\n",
        "- 연평균 수익률(Compound Annual Growth Rate)\n",
        "- 연평균으로 따졌을 때 수익률이 얼마나 되는지 측정한 지표\n",
        "- 테스트 기간이 1년보다 짧으면 단리로 계산해 확장하고, 1년보다 길면 복리로 계산\n"
      ],
      "metadata": {
        "id": "RDjyANPl9iau"
      }
    },
    {
      "cell_type": "markdown",
      "source": [
        "\n",
        "\n",
        "## 누적수익률(Accumulated return)\n",
        "- 전체 투자기간 동안의 누적수익률\n"
      ],
      "metadata": {
        "id": "-3iDgyWsAJCc"
      }
    },
    {
      "cell_type": "markdown",
      "source": [
        "\n",
        "## 평균수익률(Average return)\n",
        "- 트레이딩을 한 사이클(매수~매도)을 돌렸을 때 발생한 건별 수익률의 평균\n"
      ],
      "metadata": {
        "id": "G46FCi5mAKPu"
      }
    },
    {
      "cell_type": "markdown",
      "source": [
        "\n",
        "## 벤치마크수익률(Benchmark return)\n",
        "- 전략을 이용하지 않고 같은 기간 동안 주식을 쭉 보유하고 있었다고 가정했을 때의 누적 수익률\n",
        "- 일반적으로 S&P500지수, KOSPI200지수 등을 사용\n"
      ],
      "metadata": {
        "id": "ETNU_U2DALYg"
      }
    },
    {
      "cell_type": "markdown",
      "source": [
        "\n",
        "## 거래횟수(Number of trades)\n",
        "- 매매가 발생한 횟수\n"
      ],
      "metadata": {
        "id": "qt7gqgVFAMY4"
      }
    },
    {
      "cell_type": "markdown",
      "source": [
        "\n",
        "## 성공확률(Number of win)\n",
        "- 플러스 수익률 횟수\n"
      ],
      "metadata": {
        "id": "3ADUUg5pANUY"
      }
    },
    {
      "cell_type": "markdown",
      "source": [
        "\n",
        "## 투자기간(Invetment period)\n",
        "- 테스트를 진행한 총 투자기간\n",
        "- (참고)위의 전략의 경우, RSI값의 특성 상 앞쪽 데이터 일부가 투자기간에서 제외됨\n"
      ],
      "metadata": {
        "id": "5T4kvlS4AOKW"
      }
    },
    {
      "cell_type": "markdown",
      "source": [
        "\n",
        "## [샤프비율(Sharp ratio)](https://namu.wiki/w/%EC%83%A4%ED%94%84%20%EB%B9%84%EC%9C%A8)\n",
        "- 위험 대비 수익이 얼마인지 표시하는 지표\n"
      ],
      "metadata": {
        "id": "g72_d2LOAPFk"
      }
    },
    {
      "cell_type": "markdown",
      "source": [
        "\n",
        "\n",
        "## MDD(Maximum Draw Down)\n",
        "- 최대 낙폭\n",
        "- 투자 기간 중 투자자가 입을 수 있는 최대 손실률\n"
      ],
      "metadata": {
        "id": "7adzp2VIAP__"
      }
    },
    {
      "cell_type": "markdown",
      "source": [
        "\n",
        "## 벤치마크 MDD(Benchmark MDD)\n",
        "- 단순히 주식을 보유하고 있었을 경우의 최대 손실\n",
        "- 전략을 사용했을 때의 MDD와 벤치마크 MDD와 같다면?\n",
        "    - 위험 방어를 전혀 못한 전략이라고 해석할 수 있음"
      ],
      "metadata": {
        "id": "Ux3Z4iAeAQy2"
      }
    },
    {
      "cell_type": "markdown",
      "source": [
        "# [실습] 상승 모멘텀 전략\n",
        "- buy = 60, sell = 40\n",
        "- 주가가 강할 때 더 올라갈 것을 기대하고 매수\n",
        "- 모멘텀 트레이딩"
      ],
      "metadata": {
        "id": "tTcjK5FVAnNx"
      }
    },
    {
      "cell_type": "code",
      "source": [],
      "metadata": {
        "id": "VTKyzWPs8N63"
      },
      "execution_count": null,
      "outputs": []
    },
    {
      "cell_type": "code",
      "source": [],
      "metadata": {
        "id": "ZVW2LM8t8FGQ"
      },
      "execution_count": null,
      "outputs": []
    }
  ]
}
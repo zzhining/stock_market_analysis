{
  "cells": [
    {
      "cell_type": "markdown",
      "metadata": {
        "id": "view-in-github",
        "colab_type": "text"
      },
      "source": [
        "<a href=\"https://colab.research.google.com/github/zzhining/stock_market_analysis/blob/main/3%EC%A3%BC%EC%B0%A8/%EC%9E%AC%EB%AC%B4%EC%A0%9C%ED%91%9C%EA%B8%B0%EB%B0%98_%EC%A3%BC%EA%B0%80%EB%B6%84%EC%84%9D.ipynb\" target=\"_parent\"><img src=\"https://colab.research.google.com/assets/colab-badge.svg\" alt=\"Open In Colab\"/></a>"
      ]
    },
    {
      "cell_type": "markdown",
      "id": "57067dac",
      "metadata": {
        "id": "57067dac"
      },
      "source": [
        "### 환경 설정"
      ]
    },
    {
      "cell_type": "code",
      "execution_count": null,
      "id": "a3b7142a",
      "metadata": {
        "id": "a3b7142a"
      },
      "outputs": [],
      "source": [
        "import warnings\n",
        "warnings.filterwarnings(\"ignore\")"
      ]
    },
    {
      "cell_type": "code",
      "execution_count": null,
      "id": "90b905d2",
      "metadata": {
        "id": "90b905d2"
      },
      "outputs": [],
      "source": [
        "import seaborn as sns\n",
        "from matplotlib import pyplot as plt\n",
        "from matplotlib import rcParams\n",
        "sns.set()\n",
        "%matplotlib inline\n",
        "rcParams['font.family'] = 'Malgun Gothic'\n",
        "rcParams['axes.unicode_minus'] = False"
      ]
    },
    {
      "cell_type": "markdown",
      "id": "5acf4366",
      "metadata": {
        "id": "5acf4366"
      },
      "source": [
        "### 데이터 준비"
      ]
    },
    {
      "cell_type": "code",
      "execution_count": null,
      "id": "3d86cd12",
      "metadata": {
        "id": "3d86cd12"
      },
      "outputs": [],
      "source": [
        "import pandas as pd\n",
        "data = pd.read_csv(\n",
        "                   \"../../데이터/재무제표_분석용데이터.csv\",\n",
        "                   encoding = \"euc-kr\",\n",
        "                   usecols = ['기업', '연도', '현재_주가', '미래_주가', 'ROA', 'ROE', 'PER'],\n",
        "                   )\n",
        "data.dropna(inplace = True)"
      ]
    },
    {
      "cell_type": "markdown",
      "id": "9055f32b",
      "metadata": {
        "id": "9055f32b"
      },
      "source": [
        "#### 산업군 추가"
      ]
    },
    {
      "cell_type": "code",
      "execution_count": null,
      "id": "f3d23416",
      "metadata": {
        "id": "f3d23416"
      },
      "outputs": [],
      "source": [
        "stock_info_data = pd.read_csv(\n",
        "    \"../../데이터/종목정보.txt\", sep=\"\\t\", encoding=\"euc-kr\", usecols=[\"Name\", \"Sector\"]\n",
        ")\n",
        "\n",
        "data = pd.merge(data, stock_info_data, left_on=\"기업\", right_on=\"Name\", how=\"left\")\n",
        "data.drop([\"Name\"], axis=1, inplace=True)"
      ]
    },
    {
      "cell_type": "code",
      "execution_count": null,
      "id": "aa592190",
      "metadata": {
        "id": "aa592190"
      },
      "outputs": [],
      "source": [
        "data['수익률'] = (data['미래_주가'] - data['현재_주가']) / data['현재_주가'] * 100"
      ]
    },
    {
      "cell_type": "markdown",
      "id": "c2fe4d90",
      "metadata": {
        "id": "c2fe4d90"
      },
      "source": [
        "### 수익률과 투자 지표 간 상관관계 확인"
      ]
    },
    {
      "cell_type": "markdown",
      "id": "7b4d70a4",
      "metadata": {
        "id": "7b4d70a4"
      },
      "source": [
        "#### PER"
      ]
    },
    {
      "cell_type": "code",
      "execution_count": null,
      "id": "57899d17",
      "metadata": {
        "id": "57899d17"
      },
      "outputs": [],
      "source": [
        "plt.scatter(data[\"PER\"], data[\"수익률\"], alpha = 0.1)\n",
        "plt.xlabel(\"PER\")\n",
        "plt.ylabel(\"수익률\")\n",
        "plt.xlim(0, 100)\n",
        "plt.ylim(-100, 100)\n",
        "plt.show()\n",
        "print(data.corr(\"spearman\").loc[\"PER\", \"수익률\"])"
      ]
    },
    {
      "cell_type": "markdown",
      "id": "d02e8b9e",
      "metadata": {
        "id": "d02e8b9e"
      },
      "source": [
        "#### ROA"
      ]
    },
    {
      "cell_type": "code",
      "execution_count": null,
      "id": "0bb72d97",
      "metadata": {
        "id": "0bb72d97"
      },
      "outputs": [],
      "source": [
        "plt.scatter(data[\"ROA\"], data[\"수익률\"], alpha = 0.1)\n",
        "plt.xlabel(\"ROA\")\n",
        "plt.ylabel(\"수익률\")\n",
        "plt.xlim(0, 100)\n",
        "plt.ylim(-100, 100)\n",
        "plt.show()\n",
        "print(data.corr(\"spearman\").loc[\"ROA\", \"수익률\"])"
      ]
    },
    {
      "cell_type": "markdown",
      "id": "3c7b1999",
      "metadata": {
        "id": "3c7b1999"
      },
      "source": [
        "#### ROE"
      ]
    },
    {
      "cell_type": "code",
      "execution_count": null,
      "id": "e67f1b0c",
      "metadata": {
        "id": "e67f1b0c"
      },
      "outputs": [],
      "source": [
        "plt.scatter(data[\"ROE\"], data[\"수익률\"], alpha = 0.1)\n",
        "plt.xlabel(\"ROE\")\n",
        "plt.ylabel(\"수익률\")\n",
        "plt.xlim(0, 100)\n",
        "plt.ylim(-100, 100)\n",
        "plt.show()\n",
        "print(data.corr(\"spearman\").loc[\"ROE\", \"수익률\"])"
      ]
    },
    {
      "cell_type": "markdown",
      "id": "f9d000aa",
      "metadata": {
        "id": "f9d000aa"
      },
      "source": [
        "### 산업군을 고려한 수익률과 투자 지표 간 상관관계 확인"
      ]
    },
    {
      "cell_type": "code",
      "execution_count": null,
      "id": "6333b8e1",
      "metadata": {
        "id": "6333b8e1"
      },
      "outputs": [],
      "source": [
        "display(data.drop_duplicates(['기업', 'Sector'])['Sector'].value_counts())"
      ]
    },
    {
      "cell_type": "code",
      "execution_count": null,
      "id": "8108006a",
      "metadata": {
        "id": "8108006a"
      },
      "outputs": [],
      "source": [
        "result = []\n",
        "top10_S = data.drop_duplicates(['기업', 'Sector'])['Sector'].value_counts().index[:10]\n",
        "for col in [\"PER\", \"ROA\", \"ROE\"]:\n",
        "    record = []\n",
        "    for sector in top10_S:\n",
        "        temp = data.loc[data['Sector'] == sector, [col, '수익률']].dropna()\n",
        "        corr = temp.corr(\"spearman\").iloc[0, 1]\n",
        "        record.append(corr)\n",
        "    result.append(record)\n",
        "\n",
        "plt.figure(figsize = (12, 5))\n",
        "sns.heatmap(result, annot=True, fmt=\".2f\", linewidths=0.5)\n",
        "plt.yticks([0.5, 1.5, 2.5], [\"PER\", \"ROA\", \"ROE\"])\n",
        "plt.show()"
      ]
    },
    {
      "cell_type": "markdown",
      "id": "fd038d7b",
      "metadata": {
        "id": "fd038d7b"
      },
      "source": [
        "### 동일 가중 교체 매매에 따른 수익 비교"
      ]
    },
    {
      "cell_type": "markdown",
      "id": "5fdd1051",
      "metadata": {
        "id": "5fdd1051"
      },
      "source": [
        "#### 전체 산업군"
      ]
    },
    {
      "cell_type": "code",
      "execution_count": null,
      "id": "e838144a",
      "metadata": {
        "id": "e838144a"
      },
      "outputs": [],
      "source": [
        "import numpy as np\n",
        "result = []\n",
        "for col in [\"PER\", \"ROA\", \"ROE\"]:\n",
        "    inve_list = np.array([10**8] * 10) # 투자금 초기화\n",
        "    for year in range(2014, 2020):\n",
        "        y_data = data.loc[data['연도'] == year]\n",
        "        group_list = pd.qcut(y_data[col], 10, labels = range(10)).astype(int)\n",
        "        for group in range(10):\n",
        "            ror_list = y_data.loc[group_list == group, '수익률']\n",
        "            inve_per_stock = inve_list[group] / len(ror_list)\n",
        "            profit = (inve_per_stock * ror_list / 100).sum()\n",
        "            inve_list[group] += profit\n",
        "    profit_ratio_list = (inve_list - 10 ** 8) / 10 ** 8 * 100\n",
        "    result.append(profit_ratio_list)\n",
        "result = pd.DataFrame(result, columns = range(10), index = [\"PER\", \"ROA\", \"ROE\"])\n",
        "\n",
        "plt.figure(figsize = (12, 5))\n",
        "sns.heatmap(result, annot = True, linewidth = 1, fmt = \".2f\")"
      ]
    },
    {
      "cell_type": "markdown",
      "id": "6cb25ef9",
      "metadata": {
        "id": "6cb25ef9"
      },
      "source": [
        "#### 소프트웨어 개발 및 공급업"
      ]
    },
    {
      "cell_type": "code",
      "execution_count": null,
      "id": "38295c84",
      "metadata": {
        "id": "38295c84"
      },
      "outputs": [],
      "source": [
        "s_data = data.loc[data['Sector'] == \"소프트웨어 개발 및 공급업\"] # 필터링\n",
        "result = []\n",
        "for col in [\"PER\", \"ROA\", \"ROE\"]:\n",
        "    inve_list = np.array([10**8] * 5)\n",
        "    for year in range(2014, 2020):\n",
        "        y_data = s_data.loc[data['연도'] == year]\n",
        "        group_list = pd.qcut(y_data[col], 5, labels = range(5)).astype(int)\n",
        "        for group in range(5):\n",
        "            ror_list = y_data.loc[group_list == group, '수익률']\n",
        "            inve_per_stock = inve_list[group] / len(ror_list)\n",
        "            profit = (inve_per_stock * ror_list / 100).sum()\n",
        "            inve_list[group] += profit\n",
        "    profit_ratio_list = (inve_list - 10 ** 8) / 10 ** 8 * 100\n",
        "    result.append(profit_ratio_list)\n",
        "result = pd.DataFrame(result, columns = range(5), index = [\"PER\", \"ROA\", \"ROE\"])\n",
        "\n",
        "plt.figure(figsize = (12, 5))\n",
        "sns.heatmap(result, annot = True, linewidth = 1, fmt = \".2f\")"
      ]
    }
  ],
  "metadata": {
    "kernelspec": {
      "display_name": "Python 3",
      "language": "python",
      "name": "python3"
    },
    "language_info": {
      "codemirror_mode": {
        "name": "ipython",
        "version": 3
      },
      "file_extension": ".py",
      "mimetype": "text/x-python",
      "name": "python",
      "nbconvert_exporter": "python",
      "pygments_lexer": "ipython3",
      "version": "3.8.8"
    },
    "colab": {
      "provenance": [],
      "include_colab_link": true
    }
  },
  "nbformat": 4,
  "nbformat_minor": 5
}
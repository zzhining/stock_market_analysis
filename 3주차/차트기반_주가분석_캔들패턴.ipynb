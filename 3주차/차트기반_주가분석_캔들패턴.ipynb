{
  "cells": [
    {
      "cell_type": "markdown",
      "metadata": {
        "id": "view-in-github",
        "colab_type": "text"
      },
      "source": [
        "<a href=\"https://colab.research.google.com/github/zzhining/stock_market_analysis/blob/main/3%EC%A3%BC%EC%B0%A8/%EC%B0%A8%ED%8A%B8%EA%B8%B0%EB%B0%98_%EC%A3%BC%EA%B0%80%EB%B6%84%EC%84%9D_%EC%BA%94%EB%93%A4%ED%8C%A8%ED%84%B4.ipynb\" target=\"_parent\"><img src=\"https://colab.research.google.com/assets/colab-badge.svg\" alt=\"Open In Colab\"/></a>"
      ]
    },
    {
      "cell_type": "markdown",
      "id": "8759d140",
      "metadata": {
        "id": "8759d140"
      },
      "source": [
        "### 데이터 준비 및 환경 설정"
      ]
    },
    {
      "cell_type": "code",
      "execution_count": null,
      "id": "3a8c5451",
      "metadata": {
        "id": "3a8c5451"
      },
      "outputs": [],
      "source": [
        "import os\n",
        "os.chdir(\"../../데이터\")"
      ]
    },
    {
      "cell_type": "code",
      "execution_count": null,
      "id": "958518a9",
      "metadata": {
        "id": "958518a9"
      },
      "outputs": [],
      "source": [
        "import pandas as pd\n",
        "sp_data_dict = dict()\n",
        "for file_name in os.listdir(\"주가데이터\"):\n",
        "    sp_data = pd.read_csv(\"주가데이터/\" + file_name, parse_dates = ['Date'])\n",
        "    stock_name = file_name.replace('.csv', '')\n",
        "    sp_data_dict[stock_name] = sp_data"
      ]
    },
    {
      "cell_type": "code",
      "execution_count": null,
      "id": "c0661c34",
      "metadata": {
        "id": "c0661c34"
      },
      "outputs": [],
      "source": [
        "import seaborn as sns\n",
        "from matplotlib import pyplot as plt\n",
        "from matplotlib import rcParams\n",
        "sns.set()\n",
        "%matplotlib inline\n",
        "rcParams['font.family'] = 'Malgun Gothic'\n",
        "rcParams['axes.unicode_minus'] = False"
      ]
    },
    {
      "cell_type": "code",
      "execution_count": null,
      "id": "cd070d0d",
      "metadata": {
        "id": "cd070d0d"
      },
      "outputs": [],
      "source": [
        "import warnings\n",
        "warnings.filterwarnings(\"ignore\")"
      ]
    },
    {
      "cell_type": "markdown",
      "id": "b85f610b",
      "metadata": {
        "id": "b85f610b"
      },
      "source": [
        "### 상승장악형"
      ]
    },
    {
      "cell_type": "markdown",
      "id": "f48039ae",
      "metadata": {
        "id": "f48039ae"
      },
      "source": [
        "#### 패턴 탐지"
      ]
    },
    {
      "cell_type": "code",
      "execution_count": null,
      "id": "3f775a1f",
      "metadata": {
        "id": "3f775a1f"
      },
      "outputs": [],
      "source": [
        "# 현대차 예시\n",
        "sample_data = sp_data_dict[\"현대차\"]"
      ]
    },
    {
      "cell_type": "code",
      "execution_count": null,
      "id": "b948fae9",
      "metadata": {
        "id": "b948fae9"
      },
      "outputs": [],
      "source": [
        "import numpy as np\n",
        "cond_1 = (sample_data['Open'] > sample_data['Close']).values[:-1]\n",
        "cond_2 = (sample_data['Open'] < sample_data['Close']).values[1:]\n",
        "cond_3 = (sample_data['Low'].values[:-1] > sample_data['Open'].values[1:])\n",
        "cond_4 = (sample_data['High'].values[:-1] < sample_data['Close'].values[1:])\n",
        "\n",
        "cond = cond_1 & cond_2 & cond_3 & cond_4\n",
        "cond = np.insert(cond, 0, False)\n",
        "sample_data[\"상승장악형\"] = cond"
      ]
    },
    {
      "cell_type": "code",
      "execution_count": null,
      "id": "2e06e063",
      "metadata": {
        "id": "2e06e063"
      },
      "outputs": [],
      "source": [
        "# 전종목 적용\n",
        "for stock_name in sp_data_dict.keys():\n",
        "    sp_data = sp_data_dict[stock_name]\n",
        "    cond_1 = (sp_data['Open'] > sp_data['Close']).values[:-1]\n",
        "    cond_2 = (sp_data['Open'] < sp_data['Close']).values[1:]\n",
        "    cond_3 = (sp_data['Low'].values[:-1] > sp_data['Open'].values[1:])\n",
        "    cond_4 = (sp_data['High'].values[:-1] < sp_data['Close'].values[1:])\n",
        "\n",
        "    cond = cond_1 & cond_2 & cond_3 & cond_4\n",
        "    cond = np.insert(cond, 0, False)\n",
        "    sp_data[\"상승장악형\"] = cond"
      ]
    },
    {
      "cell_type": "markdown",
      "id": "8e8a1ed6",
      "metadata": {
        "id": "8e8a1ed6"
      },
      "source": [
        "#### 기대 수익 계산"
      ]
    },
    {
      "cell_type": "code",
      "execution_count": null,
      "id": "093d6808",
      "metadata": {
        "id": "093d6808"
      },
      "outputs": [],
      "source": [
        "def calc_ror_after_patt(sp_data, patt_col, n):\n",
        "    patt_idx_list = sp_data.loc[sp_data[patt_col]].index\n",
        "    no_patt_idx_list = sp_data.index.difference(patt_idx_list)\n",
        "    max_idx = max(sp_data.index)\n",
        "\n",
        "    patt_bidx_list = patt_idx_list[patt_idx_list + n < max_idx] + 1\n",
        "    patt_sidx_list = patt_bidx_list + n\n",
        "    no_patt_bidx_list = no_patt_idx_list[no_patt_idx_list + n < max_idx] + 1\n",
        "    no_patt_sidx_list = no_patt_bidx_list + n\n",
        "    # 패턴 발생 후 수익률 계산\n",
        "    patt_bp_list = sp_data.loc[patt_bidx_list, 'Close'].values\n",
        "    patt_sp_list = sp_data.loc[patt_sidx_list, 'Close'].values\n",
        "    patt_ror_list = (patt_sp_list - patt_bp_list) / patt_bp_list * 100\n",
        "    # 패턴 미 발생 후 수익률 계산\n",
        "    no_patt_bp_list = sp_data.loc[no_patt_bidx_list, 'Close'].values\n",
        "    no_patt_sp_list = sp_data.loc[no_patt_sidx_list, 'Close'].values\n",
        "    no_patt_ror_list = (no_patt_sp_list - no_patt_bp_list) / no_patt_bp_list * 100\n",
        "\n",
        "    return patt_ror_list.tolist(), no_patt_ror_list.tolist()"
      ]
    },
    {
      "cell_type": "code",
      "execution_count": null,
      "id": "b3070210",
      "metadata": {
        "id": "b3070210"
      },
      "outputs": [],
      "source": [
        "result_dict = dict()\n",
        "for n in [5, 20, 60, 120]:\n",
        "    total_patt_ror_list = []\n",
        "    total_no_patt_ror_list = []\n",
        "    for stock_name in sp_data_dict.keys():\n",
        "        sp_data = sp_data_dict[stock_name]\n",
        "        patt_ror_list, no_patt_ror_list = calc_ror_after_patt(sp_data, \"상승장악형\", n)\n",
        "        total_patt_ror_list += patt_ror_list\n",
        "        total_no_patt_ror_list += no_patt_ror_list\n",
        "    result_dict[n] = total_patt_ror_list, total_no_patt_ror_list"
      ]
    },
    {
      "cell_type": "markdown",
      "id": "180065e7",
      "metadata": {
        "id": "180065e7"
      },
      "source": [
        "#### 5영업일 보유 시 수익 비교"
      ]
    },
    {
      "cell_type": "code",
      "execution_count": null,
      "id": "a3095481",
      "metadata": {
        "id": "a3095481"
      },
      "outputs": [],
      "source": [
        "plt.title(\"상승장악형 - 5영업일 이후\")\n",
        "plt.boxplot(result_dict[5])\n",
        "plt.xticks([1, 2], [\"패턴발생\", \"패턴미발생\"])\n",
        "plt.ylim(-100, 100)\n",
        "plt.show()"
      ]
    },
    {
      "cell_type": "code",
      "execution_count": null,
      "id": "b7421f5f",
      "metadata": {
        "id": "b7421f5f"
      },
      "outputs": [],
      "source": [
        "total_patt_ror_list, total_no_patt_ror_list = result_dict[5]\n",
        "result = pd.concat([pd.Series(total_patt_ror_list).describe(),\n",
        "                   pd.Series(total_no_patt_ror_list).describe()],\n",
        "                   axis = 1)\n",
        "result.columns = ['패턴발생', '패턴미발생']\n",
        "display(result.round(2))"
      ]
    },
    {
      "cell_type": "markdown",
      "id": "2b020edf",
      "metadata": {
        "id": "2b020edf"
      },
      "source": [
        "#### 20영업일 보유 시 수익 비교"
      ]
    },
    {
      "cell_type": "code",
      "execution_count": null,
      "id": "73ae426b",
      "metadata": {
        "id": "73ae426b"
      },
      "outputs": [],
      "source": [
        "total_patt_ror_list, total_no_patt_ror_list = result_dict[20]\n",
        "result = pd.concat([pd.Series(total_patt_ror_list).describe(),\n",
        "                   pd.Series(total_no_patt_ror_list).describe()],\n",
        "                   axis = 1)\n",
        "result.columns = ['패턴발생', '패턴미발생']\n",
        "display(result.round(2))"
      ]
    },
    {
      "cell_type": "markdown",
      "id": "5c4f79bd",
      "metadata": {
        "id": "5c4f79bd"
      },
      "source": [
        "#### 60영업일 보유 시 수익 비교"
      ]
    },
    {
      "cell_type": "code",
      "execution_count": null,
      "id": "161bb6a8",
      "metadata": {
        "scrolled": true,
        "id": "161bb6a8"
      },
      "outputs": [],
      "source": [
        "total_patt_ror_list, total_no_patt_ror_list = result_dict[60]\n",
        "result = pd.concat([pd.Series(total_patt_ror_list).describe(),\n",
        "                   pd.Series(total_no_patt_ror_list).describe()],\n",
        "                   axis = 1)\n",
        "result.columns = ['패턴발생', '패턴미발생']\n",
        "display(result.round(2))"
      ]
    },
    {
      "cell_type": "markdown",
      "id": "4566be8a",
      "metadata": {
        "id": "4566be8a"
      },
      "source": [
        "#### 120영업일 보유 시 수익 비교"
      ]
    },
    {
      "cell_type": "code",
      "execution_count": null,
      "id": "6a112196",
      "metadata": {
        "scrolled": true,
        "id": "6a112196"
      },
      "outputs": [],
      "source": [
        "total_patt_ror_list, total_no_patt_ror_list = result_dict[120]\n",
        "result = pd.concat([pd.Series(total_patt_ror_list).describe(),\n",
        "                   pd.Series(total_no_patt_ror_list).describe()],\n",
        "                   axis = 1)\n",
        "result.columns = ['패턴발생', '패턴미발생']\n",
        "display(result.round(2))"
      ]
    },
    {
      "cell_type": "markdown",
      "id": "4d31b1f5",
      "metadata": {
        "id": "4d31b1f5"
      },
      "source": [
        "### 하락장악형"
      ]
    },
    {
      "cell_type": "markdown",
      "id": "9052123e",
      "metadata": {
        "id": "9052123e"
      },
      "source": [
        "#### 패턴 탐지"
      ]
    },
    {
      "cell_type": "code",
      "execution_count": null,
      "id": "0ad94338",
      "metadata": {
        "id": "0ad94338"
      },
      "outputs": [],
      "source": [
        "for stock_name in sp_data_dict.keys():\n",
        "    sp_data = sp_data_dict[stock_name]\n",
        "    cond_1 = (sp_data['Open'] < sp_data['Close']).values[:-1]\n",
        "    cond_2 = (sp_data['Open'] > sp_data['Close']).values[1:]\n",
        "    cond_3 = (sp_data['High'].values[:-1] < sp_data['Open'].values[1:])\n",
        "    cond_4 = (sp_data['Low'].values[:-1] > sp_data['Close'].values[1:])\n",
        "\n",
        "    cond = cond_1 & cond_2 & cond_3 & cond_4\n",
        "    cond = np.insert(cond, 0, False)\n",
        "    sp_data[\"하락장악형\"] = cond"
      ]
    },
    {
      "cell_type": "markdown",
      "id": "78a66b68",
      "metadata": {
        "id": "78a66b68"
      },
      "source": [
        "#### 기대 수익 계산"
      ]
    },
    {
      "cell_type": "code",
      "execution_count": null,
      "id": "aea84624",
      "metadata": {
        "id": "aea84624"
      },
      "outputs": [],
      "source": [
        "result_dict = dict()\n",
        "for n in [5, 20, 60, 120]:\n",
        "    total_patt_ror_list = []\n",
        "    total_no_patt_ror_list = []\n",
        "    for stock_name in sp_data_dict.keys():\n",
        "        sp_data = sp_data_dict[stock_name]\n",
        "        patt_ror_list, no_patt_ror_list = calc_ror_after_patt(sp_data, \"하락장악형\", n)\n",
        "        total_patt_ror_list += patt_ror_list\n",
        "        total_no_patt_ror_list += no_patt_ror_list\n",
        "    result_dict[n] = total_patt_ror_list, total_no_patt_ror_list"
      ]
    },
    {
      "cell_type": "markdown",
      "id": "77d59094",
      "metadata": {
        "id": "77d59094"
      },
      "source": [
        "#### 5영업일 보유 시 수익 비교"
      ]
    },
    {
      "cell_type": "code",
      "execution_count": null,
      "id": "8509ddde",
      "metadata": {
        "id": "8509ddde"
      },
      "outputs": [],
      "source": [
        "total_patt_ror_list, total_no_patt_ror_list = result_dict[5]\n",
        "result = pd.concat([pd.Series(total_patt_ror_list).describe(),\n",
        "                   pd.Series(total_no_patt_ror_list).describe()],\n",
        "                   axis = 1)\n",
        "result.columns = ['패턴발생', '패턴미발생']\n",
        "display(result.round(2))"
      ]
    },
    {
      "cell_type": "markdown",
      "id": "e600c045",
      "metadata": {
        "id": "e600c045"
      },
      "source": [
        "#### 20영업일 보유 시 수익 비교"
      ]
    },
    {
      "cell_type": "code",
      "execution_count": null,
      "id": "df10a073",
      "metadata": {
        "id": "df10a073"
      },
      "outputs": [],
      "source": [
        "total_patt_ror_list, total_no_patt_ror_list = result_dict[20]\n",
        "result = pd.concat([pd.Series(total_patt_ror_list).describe(),\n",
        "                   pd.Series(total_no_patt_ror_list).describe()],\n",
        "                   axis = 1)\n",
        "result.columns = ['패턴발생', '패턴미발생']\n",
        "display(result.round(2))"
      ]
    },
    {
      "cell_type": "markdown",
      "id": "5c9ff8ea",
      "metadata": {
        "id": "5c9ff8ea"
      },
      "source": [
        "#### 60영업일 보유 시 수익 비교"
      ]
    },
    {
      "cell_type": "code",
      "execution_count": null,
      "id": "3de1a432",
      "metadata": {
        "scrolled": true,
        "id": "3de1a432"
      },
      "outputs": [],
      "source": [
        "total_patt_ror_list, total_no_patt_ror_list = result_dict[60]\n",
        "result = pd.concat([pd.Series(total_patt_ror_list).describe(),\n",
        "                   pd.Series(total_no_patt_ror_list).describe()],\n",
        "                   axis = 1)\n",
        "result.columns = ['패턴발생', '패턴미발생']\n",
        "display(result.round(2))"
      ]
    },
    {
      "cell_type": "markdown",
      "id": "73902ce2",
      "metadata": {
        "id": "73902ce2"
      },
      "source": [
        "#### 120영업일 보유 시 수익 비교"
      ]
    },
    {
      "cell_type": "code",
      "execution_count": null,
      "id": "a1f74051",
      "metadata": {
        "scrolled": true,
        "id": "a1f74051"
      },
      "outputs": [],
      "source": [
        "total_patt_ror_list, total_no_patt_ror_list = result_dict[120]\n",
        "result = pd.concat([pd.Series(total_patt_ror_list).describe(),\n",
        "                   pd.Series(total_no_patt_ror_list).describe()],\n",
        "                   axis = 1)\n",
        "result.columns = ['패턴발생', '패턴미발생']\n",
        "display(result.round(2))"
      ]
    },
    {
      "cell_type": "markdown",
      "id": "1147acec",
      "metadata": {
        "id": "1147acec"
      },
      "source": [
        "### 적삼병"
      ]
    },
    {
      "cell_type": "markdown",
      "id": "e097cfbf",
      "metadata": {
        "id": "e097cfbf"
      },
      "source": [
        "#### 패턴 탐지"
      ]
    },
    {
      "cell_type": "code",
      "execution_count": null,
      "id": "57f18698",
      "metadata": {
        "id": "57f18698"
      },
      "outputs": [],
      "source": [
        "for stock_name in sp_data_dict.keys():\n",
        "    sp_data = sp_data_dict[stock_name]\n",
        "    cur_price = sp_data[\"Close\"].values[2:]\n",
        "    pre_price = sp_data[\"Close\"].values[1:-1]\n",
        "    sec_pre_price = sp_data[\"Close\"].values[:-2]\n",
        "\n",
        "    cond_1 = (cur_price > pre_price) & (pre_price > sec_pre_price)\n",
        "    cond_2 = (sp_data['Open'] < sp_data['Close']).values[:-2]\n",
        "    cond_3 = (sp_data['Open'] < sp_data['Close']).values[1:-1]\n",
        "    cond_4 = (sp_data['Open'] < sp_data['Close']).values[2:]\n",
        "\n",
        "    cond = cond_1 & cond_2 & cond_3 & cond_4\n",
        "    cond = np.insert(cond, [0, 0], False)\n",
        "    sp_data[\"적삼병\"] = cond"
      ]
    },
    {
      "cell_type": "markdown",
      "id": "91a9a4c3",
      "metadata": {
        "id": "91a9a4c3"
      },
      "source": [
        "#### 기대 수익 계산"
      ]
    },
    {
      "cell_type": "code",
      "execution_count": null,
      "id": "563af308",
      "metadata": {
        "id": "563af308"
      },
      "outputs": [],
      "source": [
        "result_dict = dict()\n",
        "for n in [5, 20, 60, 120]:\n",
        "    total_patt_ror_list = []\n",
        "    total_no_patt_ror_list = []\n",
        "    for stock_name in sp_data_dict.keys():\n",
        "        sp_data = sp_data_dict[stock_name]\n",
        "        patt_ror_list, no_patt_ror_list = calc_ror_after_patt(sp_data, \"적삼병\", n)\n",
        "        total_patt_ror_list += patt_ror_list\n",
        "        total_no_patt_ror_list += no_patt_ror_list\n",
        "    result_dict[n] = total_patt_ror_list, total_no_patt_ror_list"
      ]
    },
    {
      "cell_type": "markdown",
      "id": "76f6d147",
      "metadata": {
        "id": "76f6d147"
      },
      "source": [
        "#### 5영업일 보유 시 수익 비교"
      ]
    },
    {
      "cell_type": "code",
      "execution_count": null,
      "id": "477986e1",
      "metadata": {
        "id": "477986e1"
      },
      "outputs": [],
      "source": [
        "total_patt_ror_list, total_no_patt_ror_list = result_dict[5]\n",
        "result = pd.concat([pd.Series(total_patt_ror_list).describe(),\n",
        "                   pd.Series(total_no_patt_ror_list).describe()],\n",
        "                   axis = 1)\n",
        "result.columns = ['패턴발생', '패턴미발생']\n",
        "display(result.round(2))"
      ]
    },
    {
      "cell_type": "markdown",
      "id": "540a12ed",
      "metadata": {
        "id": "540a12ed"
      },
      "source": [
        "#### 20영업일 보유 시 수익 비교"
      ]
    },
    {
      "cell_type": "code",
      "execution_count": null,
      "id": "54bd1c1f",
      "metadata": {
        "id": "54bd1c1f"
      },
      "outputs": [],
      "source": [
        "total_patt_ror_list, total_no_patt_ror_list = result_dict[20]\n",
        "result = pd.concat([pd.Series(total_patt_ror_list).describe(),\n",
        "                   pd.Series(total_no_patt_ror_list).describe()],\n",
        "                   axis = 1)\n",
        "result.columns = ['패턴발생', '패턴미발생']\n",
        "display(result.round(2))"
      ]
    },
    {
      "cell_type": "markdown",
      "id": "7ac39149",
      "metadata": {
        "id": "7ac39149"
      },
      "source": [
        "#### 60영업일 보유 시 수익 비교"
      ]
    },
    {
      "cell_type": "code",
      "execution_count": null,
      "id": "7145660f",
      "metadata": {
        "scrolled": true,
        "id": "7145660f"
      },
      "outputs": [],
      "source": [
        "total_patt_ror_list, total_no_patt_ror_list = result_dict[60]\n",
        "result = pd.concat([pd.Series(total_patt_ror_list).describe(),\n",
        "                   pd.Series(total_no_patt_ror_list).describe()],\n",
        "                   axis = 1)\n",
        "result.columns = ['패턴발생', '패턴미발생']\n",
        "display(result.round(2))"
      ]
    },
    {
      "cell_type": "markdown",
      "id": "94fae2f1",
      "metadata": {
        "id": "94fae2f1"
      },
      "source": [
        "#### 120영업일 보유 시 수익 비교"
      ]
    },
    {
      "cell_type": "code",
      "execution_count": null,
      "id": "613dda74",
      "metadata": {
        "scrolled": true,
        "id": "613dda74"
      },
      "outputs": [],
      "source": [
        "total_patt_ror_list, total_no_patt_ror_list = result_dict[120]\n",
        "result = pd.concat([pd.Series(total_patt_ror_list).describe(),\n",
        "                   pd.Series(total_no_patt_ror_list).describe()],\n",
        "                   axis = 1)\n",
        "result.columns = ['패턴발생', '패턴미발생']\n",
        "display(result.round(2))"
      ]
    },
    {
      "cell_type": "markdown",
      "id": "8f65ed46",
      "metadata": {
        "id": "8f65ed46"
      },
      "source": [
        "### 흑삼병"
      ]
    },
    {
      "cell_type": "markdown",
      "id": "d69b1e36",
      "metadata": {
        "id": "d69b1e36"
      },
      "source": [
        "#### 패턴 탐지"
      ]
    },
    {
      "cell_type": "code",
      "execution_count": null,
      "id": "7282f037",
      "metadata": {
        "id": "7282f037"
      },
      "outputs": [],
      "source": [
        "for stock_name in sp_data_dict.keys():\n",
        "    sp_data = sp_data_dict[stock_name]\n",
        "    cur_price = sp_data[\"Close\"].values[2:]\n",
        "    pre_price = sp_data[\"Close\"].values[1:-1]\n",
        "    sec_pre_price = sp_data[\"Close\"].values[:-2]\n",
        "\n",
        "    cond_1 = (cur_price < pre_price) & (pre_price < sec_pre_price)\n",
        "    cond_2 = (sp_data['Open'] > sp_data['Close']).values[:-2]\n",
        "    cond_3 = (sp_data['Open'] > sp_data['Close']).values[1:-1]\n",
        "    cond_4 = (sp_data['Open'] > sp_data['Close']).values[2:]\n",
        "\n",
        "    cond = cond_1 & cond_2 & cond_3 & cond_4\n",
        "    cond = np.insert(cond, [0, 0], False)\n",
        "    sp_data[\"흑삼병\"] = cond"
      ]
    },
    {
      "cell_type": "markdown",
      "id": "9eda77a7",
      "metadata": {
        "id": "9eda77a7"
      },
      "source": [
        "#### 기대 수익 계산"
      ]
    },
    {
      "cell_type": "code",
      "execution_count": null,
      "id": "2441ecf3",
      "metadata": {
        "id": "2441ecf3"
      },
      "outputs": [],
      "source": [
        "result_dict = dict()\n",
        "for n in [5, 20, 60, 120]:\n",
        "    total_patt_ror_list = []\n",
        "    total_no_patt_ror_list = []\n",
        "    for stock_name in sp_data_dict.keys():\n",
        "        sp_data = sp_data_dict[stock_name]\n",
        "        patt_ror_list, no_patt_ror_list = calc_ror_after_patt(sp_data, \"흑삼병\", n)\n",
        "        total_patt_ror_list += patt_ror_list\n",
        "        total_no_patt_ror_list += no_patt_ror_list\n",
        "    result_dict[n] = total_patt_ror_list, total_no_patt_ror_list"
      ]
    },
    {
      "cell_type": "markdown",
      "id": "49736dbb",
      "metadata": {
        "id": "49736dbb"
      },
      "source": [
        "#### 5영업일 보유 시 수익 비교"
      ]
    },
    {
      "cell_type": "code",
      "execution_count": null,
      "id": "c33fbccd",
      "metadata": {
        "id": "c33fbccd"
      },
      "outputs": [],
      "source": [
        "total_patt_ror_list, total_no_patt_ror_list = result_dict[5]\n",
        "result = pd.concat([pd.Series(total_patt_ror_list).describe(),\n",
        "                   pd.Series(total_no_patt_ror_list).describe()],\n",
        "                   axis = 1)\n",
        "result.columns = ['패턴발생', '패턴미발생']\n",
        "display(result.round(2))"
      ]
    },
    {
      "cell_type": "markdown",
      "id": "faf2e482",
      "metadata": {
        "id": "faf2e482"
      },
      "source": [
        "#### 20영업일 보유 시 수익 비교"
      ]
    },
    {
      "cell_type": "code",
      "execution_count": null,
      "id": "d693671a",
      "metadata": {
        "id": "d693671a"
      },
      "outputs": [],
      "source": [
        "total_patt_ror_list, total_no_patt_ror_list = result_dict[20]\n",
        "result = pd.concat([pd.Series(total_patt_ror_list).describe(),\n",
        "                   pd.Series(total_no_patt_ror_list).describe()],\n",
        "                   axis = 1)\n",
        "result.columns = ['패턴발생', '패턴미발생']\n",
        "display(result.round(2))"
      ]
    },
    {
      "cell_type": "markdown",
      "id": "2ab8418b",
      "metadata": {
        "id": "2ab8418b"
      },
      "source": [
        "#### 60영업일 보유 시 수익 비교"
      ]
    },
    {
      "cell_type": "code",
      "execution_count": null,
      "id": "d4ccdf14",
      "metadata": {
        "scrolled": true,
        "id": "d4ccdf14"
      },
      "outputs": [],
      "source": [
        "total_patt_ror_list, total_no_patt_ror_list = result_dict[60]\n",
        "result = pd.concat([pd.Series(total_patt_ror_list).describe(),\n",
        "                   pd.Series(total_no_patt_ror_list).describe()],\n",
        "                   axis = 1)\n",
        "result.columns = ['패턴발생', '패턴미발생']\n",
        "display(result.round(2))"
      ]
    },
    {
      "cell_type": "markdown",
      "id": "29e398c7",
      "metadata": {
        "id": "29e398c7"
      },
      "source": [
        "#### 120영업일 보유 시 수익 비교"
      ]
    },
    {
      "cell_type": "code",
      "execution_count": null,
      "id": "8f01b4cd",
      "metadata": {
        "scrolled": true,
        "id": "8f01b4cd"
      },
      "outputs": [],
      "source": [
        "total_patt_ror_list, total_no_patt_ror_list = result_dict[120]\n",
        "result = pd.concat([pd.Series(total_patt_ror_list).describe(),\n",
        "                   pd.Series(total_no_patt_ror_list).describe()],\n",
        "                   axis = 1)\n",
        "result.columns = ['패턴발생', '패턴미발생']\n",
        "display(result.round(2))"
      ]
    },
    {
      "cell_type": "markdown",
      "id": "53701479",
      "metadata": {
        "id": "53701479"
      },
      "source": [
        "### 샛별형"
      ]
    },
    {
      "cell_type": "markdown",
      "id": "f65d50fc",
      "metadata": {
        "id": "f65d50fc"
      },
      "source": [
        "#### 패턴 탐지"
      ]
    },
    {
      "cell_type": "code",
      "execution_count": null,
      "id": "88d5e8b8",
      "metadata": {
        "id": "88d5e8b8"
      },
      "outputs": [],
      "source": [
        "for stock_name in sp_data_dict.keys():\n",
        "    sp_data = sp_data_dict[stock_name]\n",
        "    cond_1 = sp_data[\"Close\"].values[:-2] <= sp_data[\"Open\"].values[:-2] * 1.1\n",
        "    cond_2 = sp_data[\"Close\"].values[1:-1] > sp_data[\"Open\"].values[1:-1]\n",
        "    cond_3 = sp_data[\"Close\"].values[1:-1] < sp_data[\"Open\"].values[1:-1] * 1.01\n",
        "    cond_4 = sp_data[\"Close\"].values[2:] >= sp_data[\"Open\"].values[2:] * 1.1\n",
        "\n",
        "    cond = cond_1 & cond_2 & cond_3 & cond_4\n",
        "    cond = np.insert(cond, [0, 0], False)\n",
        "    sp_data[\"샛별형\"] = cond"
      ]
    },
    {
      "cell_type": "markdown",
      "id": "b0b61601",
      "metadata": {
        "id": "b0b61601"
      },
      "source": [
        "#### 기대 수익 계산"
      ]
    },
    {
      "cell_type": "code",
      "execution_count": null,
      "id": "6a7b44f3",
      "metadata": {
        "id": "6a7b44f3"
      },
      "outputs": [],
      "source": [
        "result_dict = dict()\n",
        "for n in [5, 20, 60, 120]:\n",
        "    total_patt_ror_list = []\n",
        "    total_no_patt_ror_list = []\n",
        "    for stock_name in sp_data_dict.keys():\n",
        "        sp_data = sp_data_dict[stock_name]\n",
        "        patt_ror_list, no_patt_ror_list = calc_ror_after_patt(sp_data, \"샛별형\", n)\n",
        "        total_patt_ror_list += patt_ror_list\n",
        "        total_no_patt_ror_list += no_patt_ror_list\n",
        "    result_dict[n] = total_patt_ror_list, total_no_patt_ror_list"
      ]
    },
    {
      "cell_type": "markdown",
      "id": "d2ca4ff0",
      "metadata": {
        "id": "d2ca4ff0"
      },
      "source": [
        "#### 5영업일 보유 시 수익 비교"
      ]
    },
    {
      "cell_type": "code",
      "execution_count": null,
      "id": "bf18def3",
      "metadata": {
        "id": "bf18def3"
      },
      "outputs": [],
      "source": [
        "total_patt_ror_list, total_no_patt_ror_list = result_dict[5]\n",
        "result = pd.concat([pd.Series(total_patt_ror_list).describe(),\n",
        "                   pd.Series(total_no_patt_ror_list).describe()],\n",
        "                   axis = 1)\n",
        "result.columns = ['패턴발생', '패턴미발생']\n",
        "display(result.round(2))"
      ]
    },
    {
      "cell_type": "markdown",
      "id": "a1c8baf3",
      "metadata": {
        "id": "a1c8baf3"
      },
      "source": [
        "#### 20영업일 보유 시 수익 비교"
      ]
    },
    {
      "cell_type": "code",
      "execution_count": null,
      "id": "0de907d5",
      "metadata": {
        "id": "0de907d5"
      },
      "outputs": [],
      "source": [
        "total_patt_ror_list, total_no_patt_ror_list = result_dict[20]\n",
        "result = pd.concat([pd.Series(total_patt_ror_list).describe(),\n",
        "                   pd.Series(total_no_patt_ror_list).describe()],\n",
        "                   axis = 1)\n",
        "result.columns = ['패턴발생', '패턴미발생']\n",
        "display(result.round(2))"
      ]
    },
    {
      "cell_type": "markdown",
      "id": "fa5316eb",
      "metadata": {
        "id": "fa5316eb"
      },
      "source": [
        "#### 60영업일 보유 시 수익 비교"
      ]
    },
    {
      "cell_type": "code",
      "execution_count": null,
      "id": "3401cee6",
      "metadata": {
        "scrolled": true,
        "id": "3401cee6"
      },
      "outputs": [],
      "source": [
        "total_patt_ror_list, total_no_patt_ror_list = result_dict[60]\n",
        "result = pd.concat([pd.Series(total_patt_ror_list).describe(),\n",
        "                   pd.Series(total_no_patt_ror_list).describe()],\n",
        "                   axis = 1)\n",
        "result.columns = ['패턴발생', '패턴미발생']\n",
        "display(result.round(2))"
      ]
    },
    {
      "cell_type": "markdown",
      "id": "da26cec0",
      "metadata": {
        "id": "da26cec0"
      },
      "source": [
        "#### 120영업일 보유 시 수익 비교"
      ]
    },
    {
      "cell_type": "code",
      "execution_count": null,
      "id": "7295b48e",
      "metadata": {
        "scrolled": true,
        "id": "7295b48e"
      },
      "outputs": [],
      "source": [
        "total_patt_ror_list, total_no_patt_ror_list = result_dict[120]\n",
        "result = pd.concat([pd.Series(total_patt_ror_list).describe(),\n",
        "                   pd.Series(total_no_patt_ror_list).describe()],\n",
        "                   axis = 1)\n",
        "result.columns = ['패턴발생', '패턴미발생']\n",
        "display(result.round(2))"
      ]
    }
  ],
  "metadata": {
    "kernelspec": {
      "display_name": "Python 3",
      "language": "python",
      "name": "python3"
    },
    "language_info": {
      "codemirror_mode": {
        "name": "ipython",
        "version": 3
      },
      "file_extension": ".py",
      "mimetype": "text/x-python",
      "name": "python",
      "nbconvert_exporter": "python",
      "pygments_lexer": "ipython3",
      "version": "3.8.8"
    },
    "colab": {
      "provenance": [],
      "include_colab_link": true
    }
  },
  "nbformat": 4,
  "nbformat_minor": 5
}